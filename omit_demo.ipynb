{
 "cells": [
  {
   "cell_type": "code",
   "execution_count": 1,
   "metadata": {},
   "outputs": [],
   "source": [
    "import pandas as pd\n",
    "import numpy as np\n",
    "import matplotlib.pyplot as plt\n",
    "import seaborn as sns\n",
    "import os\n",
    "import warnings\n",
    "import multiprocessing\n",
    "import time\n",
    "\n",
    "from IPython.display import clear_output\n",
    "warnings.filterwarnings('ignore')"
   ]
  },
  {
   "cell_type": "code",
   "execution_count": 2,
   "metadata": {},
   "outputs": [],
   "source": [
    "from src.sigsimulation import *\n",
    "from src.robustper import robustper_wrap, mltproc_robustper_wrap\n",
    "from src.baywatch import baywatch_wrap, mltproc_baywatch_wrap\n",
    "from src.statsbased import stats_wrap, mltproc_stats_wrap\n",
    "from src.upnsca import upnsca_wrap, mltproc_upnsca_wrap\n",
    "from src.bcndetection import bcndetection_wrap, mltproc_bcndetection_wrap"
   ]
  },
  {
   "cell_type": "markdown",
   "metadata": {},
   "source": [
    "## Omitting Noise Simulation\n",
    "----\n",
    "\n",
    "- This notebook demo compares our proposed algorithm with several other periodicity detection algorithms using synthetic signals. \n",
    "- Please refer to paper `Section 4.2 Algorithm Evaluation` for detailed explanation of the omitting noise.\n",
    "- The following parameters are pre-defined to be consistent with the paper. "
   ]
  },
  {
   "cell_type": "code",
   "execution_count": 3,
   "metadata": {},
   "outputs": [],
   "source": [
    "# 10 minutes periodicity\n",
    "perl = [10]\n",
    "\n",
    "# we set std = 0 for omitting experiments\n",
    "std = 0.\n",
    "\n",
    "# omitting probability is from 0 to 100\n",
    "omtl = [i for i in range(0, 105, 5)]\n",
    "\n",
    "# for each omitting probability, we generate $cnt signals\n",
    "cnt = 100\n",
    "\n",
    "datarootdir = \"data/omt\"\n",
    "\n",
    "if not os.path.exists(datarootdir):\n",
    "    os.mkdir(datarootdir)\n",
    "    \n",
    "# file format\n",
    "datafilefmt = \"per_{}_omt_{}.parquet\""
   ]
  },
  {
   "cell_type": "markdown",
   "metadata": {},
   "source": [
    "### Generate/Load Signals\n",
    "\n",
    "If you want to **regenerate** signals, set the `regenerate=True`.\n",
    "(By default, we load our previously generated signals to speed up the process.)\n"
   ]
  },
  {
   "cell_type": "code",
   "execution_count": 4,
   "metadata": {},
   "outputs": [],
   "source": [
    "# load pre-generated signal\n",
    "# set to True to regenerate simulated signals\n",
    "regenerate = False"
   ]
  },
  {
   "cell_type": "markdown",
   "metadata": {},
   "source": [
    "### Multiprocessing to reduce the computation time\n",
    "- set `multiproc=False` to disable multiprocessing. (We recommend use multiprocessing to speed up the computation.)\n",
    "- set the `processors`=`$number_of_your_cpu_cores` or `$number_of_jobs` you want to run in parallel."
   ]
  },
  {
   "cell_type": "code",
   "execution_count": 5,
   "metadata": {},
   "outputs": [],
   "source": [
    "# Set multiproc to True to disable multiprocessing\n",
    "multiproc = True\n",
    "\n",
    "# set the processors = the number of cpu cores or the number of jobs\n",
    "processors = 16"
   ]
  },
  {
   "cell_type": "markdown",
   "metadata": {},
   "source": [
    "### Algorithm Evaluation\n",
    "- Run the following blocks to regenerate results for STATS-based, UPNSCA, BAYWATCH and **our proposed methods**.\n",
    "- **The unofficial implementation of RobustPeriod is very slow**. It usually take minutes to process one time series, as a result, it would take hours to complete the Gaussian noise evaluation section. Therefore, we read the robustperiod results from our previous evaluation here for convenience purposes.\n",
    "- **The code blocks to re-run the whole RobustPeriod experiments** are provided at the end of this notebook, in case you want to rerun the RobustPeriod results. It usually takes hours to finish depending on the computation power of your computer."
   ]
  },
  {
   "cell_type": "code",
   "execution_count": 6,
   "metadata": {},
   "outputs": [],
   "source": [
    "# we define acc = detected / total\n",
    "def get_acc(res, totalcnt):\n",
    "    return res.loc[res[\"detected\"]==True].shape[0]/totalcnt"
   ]
  },
  {
   "cell_type": "markdown",
   "metadata": {},
   "source": [
    "### The main detection process:"
   ]
  },
  {
   "cell_type": "code",
   "execution_count": 7,
   "metadata": {},
   "outputs": [
    {
     "name": "stdout",
     "output_type": "stream",
     "text": [
      "Omitting Probability: 100 %\n",
      "data/omt/per_010_omt_100.parquet\n",
      "Loading data...\n",
      "Processing STATSBASED detection...\n",
      "Processing UPNSCA detection...\n",
      "Processing BAYWATCH detection...\n",
      "Processing Our Proposed detection...\n",
      "Getting Stats...\n",
      "PERIODS:10, STD: 0.0, OMT: 1.0 \n",
      "STATS: 0.0\n",
      "UPNSCA: 0.0\n",
      "BAYWATCH: 0.0\n",
      "OUR Proposed: 0.0\n",
      "\n"
     ]
    }
   ],
   "source": [
    "\n",
    "# init result dataframe\n",
    "statsdf = pd.DataFrame(columns=[\"per\", \"std\", \"omt\", \"acc\", \"method\"]) \n",
    "\n",
    "# start evaluation\n",
    "for per_m in perl:\n",
    "    per = per_m * 60 # minute to seconds\n",
    "    print(\"Generating Signals of Periodicity: {} minutes\".format(per_m))\n",
    "    \n",
    "    for value in omtl:\n",
    "        \n",
    "        omt = float(value)/100\n",
    "        print(\"Omitting Probability: {} %\".format(value))\n",
    "        \n",
    "        datafpath = os.path.join(datarootdir, datafilefmt.format(\"{0:03d}\".format(per_m), \"{0:03d}\".format(value)))\n",
    "        print(datafpath)\n",
    "        \n",
    "        # Load or generate simulated signals\n",
    "        if not regenerate and os.path.exists(datafpath):\n",
    "            print(\"Loading data...\")\n",
    "            sigdf = pd.read_parquet(datafpath)\n",
    "        else:\n",
    "            print(\"ReGenerating data...\")\n",
    "            sigdf = gen_signal_df(per, std, omit_rate=omt, count=cnt)\n",
    "            print(\"Saving data...\")\n",
    "            sigdf.to_parquet(datafpath, index=False)\n",
    "\n",
    "        if multiproc: \n",
    "            # STATBASED\n",
    "            print(\"Processing STATSBASED detection...\")\n",
    "            stats_resdf = mltproc_stats_wrap(sigdf, maxproc=processors)\n",
    "            \n",
    "            # UPNSCA\n",
    "            print(\"Processing UPNSCA detection...\")\n",
    "            upnsca_resdf = mltproc_upnsca_wrap(sigdf, maxproc=processors)\n",
    "            \n",
    "            # BAYWATCH\n",
    "            print(\"Processing BAYWATCH detection...\")\n",
    "            baywatch_resdf = mltproc_baywatch_wrap(sigdf, maxproc=processors)\n",
    "        \n",
    "            # Our Proposed\n",
    "            print(\"Processing Our Proposed detection...\")\n",
    "            bcndetection_resdf = mltproc_bcndetection_wrap(sigdf, maxproc=processors)\n",
    "        else:\n",
    "            \n",
    "            # STATBASED\n",
    "            print(\"Processing STATSBASED detection...\")\n",
    "            stats_resdf = stats_wrap(sigdf)\n",
    "            \n",
    "            # UPNSCA\n",
    "            print(\"Processing UPNSCA detection...\")\n",
    "            upnsca_resdf = upnsca_wrap(sigdf)\n",
    "            \n",
    "            # BAYWATCH\n",
    "            print(\"Processing BAYWATCH detection...\")\n",
    "            baywatch_resdf = baywatch_wrap(sigdf)\n",
    "        \n",
    "            # Our Proposed\n",
    "            print(\"Processing Our Proposed detection...\")\n",
    "            bcndetection_resdf = bcndetection_wrap(sigdf)\n",
    "        \n",
    "        print(\"Getting Stats...\")\n",
    "        stats_acc = get_acc(stats_resdf, totalcnt=cnt)\n",
    "        upnsca_acc = get_acc(upnsca_resdf, totalcnt=cnt)\n",
    "        baywatch_acc = get_acc(baywatch_resdf, totalcnt=cnt)\n",
    "        bcndetection_acc = get_acc(bcndetection_resdf, totalcnt=cnt)\n",
    "        \n",
    "        print(\"PERIODS:{}, STD: {}, OMT: {} \\nSTATS: {}\\nUPNSCA: {}\\nBAYWATCH: {}\\nOUR Proposed: {}\\n\".format(per_m, std, omt, stats_acc, upnsca_acc, baywatch_acc, bcndetection_acc))\n",
    "        \n",
    "        ## update statatistic dataframe for plotting.\n",
    "        statsdf = statsdf.append({\"per\": per, \"std\": std, \"omt\": value, \"acc\": stats_acc, \"method\": \"STATS-BASED\"}, ignore_index=True)\n",
    "        statsdf = statsdf.append({\"per\": per, \"std\": std, \"omt\": value, \"acc\": upnsca_acc, \"method\": \"UPNSCA\"}, ignore_index=True)\n",
    "        statsdf = statsdf.append({\"per\": per, \"std\": std, \"omt\": value, \"acc\": baywatch_acc, \"method\": \"BAYWATCH\"}, ignore_index=True)\n",
    "        statsdf = statsdf.append({\"per\": per, \"std\": std, \"omt\": value, \"acc\": bcndetection_acc, \"method\": \"Our Proposed\"}, ignore_index=True)\n",
    "        clear_output(wait=True)"
   ]
  },
  {
   "cell_type": "code",
   "execution_count": 8,
   "metadata": {},
   "outputs": [
    {
     "data": {
      "text/html": [
       "<div>\n",
       "<style scoped>\n",
       "    .dataframe tbody tr th:only-of-type {\n",
       "        vertical-align: middle;\n",
       "    }\n",
       "\n",
       "    .dataframe tbody tr th {\n",
       "        vertical-align: top;\n",
       "    }\n",
       "\n",
       "    .dataframe thead th {\n",
       "        text-align: right;\n",
       "    }\n",
       "</style>\n",
       "<table border=\"1\" class=\"dataframe\">\n",
       "  <thead>\n",
       "    <tr style=\"text-align: right;\">\n",
       "      <th></th>\n",
       "      <th>per</th>\n",
       "      <th>std</th>\n",
       "      <th>omt</th>\n",
       "      <th>acc</th>\n",
       "      <th>method</th>\n",
       "    </tr>\n",
       "  </thead>\n",
       "  <tbody>\n",
       "    <tr>\n",
       "      <th>0</th>\n",
       "      <td>600</td>\n",
       "      <td>0.0</td>\n",
       "      <td>0</td>\n",
       "      <td>1.00</td>\n",
       "      <td>STATS-BASED</td>\n",
       "    </tr>\n",
       "    <tr>\n",
       "      <th>1</th>\n",
       "      <td>600</td>\n",
       "      <td>0.0</td>\n",
       "      <td>0</td>\n",
       "      <td>1.00</td>\n",
       "      <td>UPNSCA</td>\n",
       "    </tr>\n",
       "    <tr>\n",
       "      <th>2</th>\n",
       "      <td>600</td>\n",
       "      <td>0.0</td>\n",
       "      <td>0</td>\n",
       "      <td>1.00</td>\n",
       "      <td>BAYWATCH</td>\n",
       "    </tr>\n",
       "    <tr>\n",
       "      <th>3</th>\n",
       "      <td>600</td>\n",
       "      <td>0.0</td>\n",
       "      <td>0</td>\n",
       "      <td>1.00</td>\n",
       "      <td>Our Proposed</td>\n",
       "    </tr>\n",
       "    <tr>\n",
       "      <th>4</th>\n",
       "      <td>600</td>\n",
       "      <td>0.0</td>\n",
       "      <td>5</td>\n",
       "      <td>0.00</td>\n",
       "      <td>STATS-BASED</td>\n",
       "    </tr>\n",
       "    <tr>\n",
       "      <th>...</th>\n",
       "      <td>...</td>\n",
       "      <td>...</td>\n",
       "      <td>...</td>\n",
       "      <td>...</td>\n",
       "      <td>...</td>\n",
       "    </tr>\n",
       "    <tr>\n",
       "      <th>79</th>\n",
       "      <td>600</td>\n",
       "      <td>0.0</td>\n",
       "      <td>95</td>\n",
       "      <td>0.28</td>\n",
       "      <td>Our Proposed</td>\n",
       "    </tr>\n",
       "    <tr>\n",
       "      <th>80</th>\n",
       "      <td>600</td>\n",
       "      <td>0.0</td>\n",
       "      <td>100</td>\n",
       "      <td>0.00</td>\n",
       "      <td>STATS-BASED</td>\n",
       "    </tr>\n",
       "    <tr>\n",
       "      <th>81</th>\n",
       "      <td>600</td>\n",
       "      <td>0.0</td>\n",
       "      <td>100</td>\n",
       "      <td>0.00</td>\n",
       "      <td>UPNSCA</td>\n",
       "    </tr>\n",
       "    <tr>\n",
       "      <th>82</th>\n",
       "      <td>600</td>\n",
       "      <td>0.0</td>\n",
       "      <td>100</td>\n",
       "      <td>0.00</td>\n",
       "      <td>BAYWATCH</td>\n",
       "    </tr>\n",
       "    <tr>\n",
       "      <th>83</th>\n",
       "      <td>600</td>\n",
       "      <td>0.0</td>\n",
       "      <td>100</td>\n",
       "      <td>0.00</td>\n",
       "      <td>Our Proposed</td>\n",
       "    </tr>\n",
       "  </tbody>\n",
       "</table>\n",
       "<p>84 rows × 5 columns</p>\n",
       "</div>"
      ],
      "text/plain": [
       "    per  std  omt   acc        method\n",
       "0   600  0.0    0  1.00   STATS-BASED\n",
       "1   600  0.0    0  1.00        UPNSCA\n",
       "2   600  0.0    0  1.00      BAYWATCH\n",
       "3   600  0.0    0  1.00  Our Proposed\n",
       "4   600  0.0    5  0.00   STATS-BASED\n",
       "..  ...  ...  ...   ...           ...\n",
       "79  600  0.0   95  0.28  Our Proposed\n",
       "80  600  0.0  100  0.00   STATS-BASED\n",
       "81  600  0.0  100  0.00        UPNSCA\n",
       "82  600  0.0  100  0.00      BAYWATCH\n",
       "83  600  0.0  100  0.00  Our Proposed\n",
       "\n",
       "[84 rows x 5 columns]"
      ]
     },
     "execution_count": 8,
     "metadata": {},
     "output_type": "execute_result"
    }
   ],
   "source": [
    "statsdf"
   ]
  },
  {
   "cell_type": "markdown",
   "metadata": {},
   "source": [
    "### Save the results\n",
    "If you **regenerate** signals or **rerun** the above experiments, run the following blocks to save it."
   ]
  },
  {
   "cell_type": "code",
   "execution_count": 28,
   "metadata": {},
   "outputs": [],
   "source": [
    "statsdf.to_csv(\"results/omt_evaluation_newresults.csv\", index=False)"
   ]
  },
  {
   "cell_type": "markdown",
   "metadata": {},
   "source": [
    "### Visualization\n",
    "- We read RobustPeriod results from \"results/omt_robust.csv\" as the rerunning of RobustPeriod would take hours. (The re-running code for robustPeriod can be found at the end of the notebook.)"
   ]
  },
  {
   "cell_type": "code",
   "execution_count": 7,
   "metadata": {},
   "outputs": [],
   "source": [
    "statsdf_robust = pd.read_csv(\"results/omt_robust_npmean.csv\")\n",
    "# read your newly saved data\n",
    "#statsdf = pd.read_csv(\"results/omt_evaluation_newresults.csv\")\n",
    "\n",
    "# if you want to read our original results uncomment the following:\n",
    "statsdf = pd.read_csv(\"results/omt_evaluation.csv\")\n",
    "\n",
    "statsdf_all = pd.concat([statsdf, statsdf_robust], ignore_index=True)"
   ]
  },
  {
   "cell_type": "markdown",
   "metadata": {},
   "source": [
    "### Plotting the periodicity detection results. \n",
    "- **Note** that the figure might be slightly **different** from the figure in the paper due to the **random process** in **both** signal generation and periodicity detection process, which may cause more or less detections. \n",
    "\n",
    "- However, we expect the pattern to be **very similar**: \n",
    "- We expect STATS-BASED, UPNSCA and BAYWATCH to drop to 0 very quickly. \n",
    "- We expect ours to have the best performance.  "
   ]
  },
  {
   "cell_type": "code",
   "execution_count": 8,
   "metadata": {},
   "outputs": [
    {
     "data": {
      "image/png": "[encoded data removed]",
      "text/plain": [
       "<Figure size 600x300 with 1 Axes>"
      ]
     },
     "metadata": {},
     "output_type": "display_data"
    }
   ],
   "source": [
    "stats_per10 = statsdf_all.loc[statsdf_all[\"per\"]==600]\n",
    "\n",
    "sns.set_style(\"whitegrid\")\n",
    "plt.rcParams['axes.spines.left'] = True\n",
    "plt.rcParams['axes.spines.right'] = False\n",
    "plt.rcParams['axes.spines.top'] = False\n",
    "plt.rcParams['axes.spines.bottom'] = False\n",
    "\n",
    "fig, ax0 = plt.subplots(figsize=(6, 3))\n",
    "\n",
    "sns.set_palette(\"tab10\")\n",
    "\n",
    "ax0 = sns.scatterplot(data=stats_per10, x = \"omt\", y=\"acc\", hue=\"method\", linewidth=2, alpha=0.7, s=100, ax=ax0, legend = False)\n",
    "ax0 = sns.lineplot(data=stats_per10, x = \"omt\", y=\"acc\", hue=\"method\", markers=\"acc\", linewidth=2, ax=ax0, legend = True)\n",
    "\n",
    "ax0.set_ylabel(\"Detection Rate\",  fontsize=18)\n",
    "ax0.set_xlabel(\"Omitting Probability(%)\",  fontsize=18)\n",
    "ax0.tick_params(axis='x', labelsize=18)\n",
    "ax0.tick_params(axis='y', labelsize=18)\n",
    "ax0.set_yticks(np.arange(0, 1.2, step=0.2))\n",
    "ax0.legend()\n",
    "\n",
    "plt.xticks(fontsize=18)\n",
    "plt.yticks(fontsize=18)\n",
    "plt.subplots_adjust(0.07, 0.15, 0.98, 0.85)"
   ]
  },
  {
   "cell_type": "markdown",
   "metadata": {},
   "source": [
    "### RobustPeriods Demo\n",
    "- Run the following blocks to check the computation time for robust periods to process one time series\n",
    "- It usually takes 30 seconds to process one time series on my computer (Intel(R) Xeon(R) Platinum 8259CL CPU @ 2.50GHz)."
   ]
  },
  {
   "cell_type": "code",
   "execution_count": 14,
   "metadata": {},
   "outputs": [
    {
     "name": "stdout",
     "output_type": "stream",
     "text": [
      "Processing time is: 31.268590211868286 seconds\n"
     ]
    }
   ],
   "source": [
    "demo_sigdf = gen_signal_df(period=10, std=0., omit_rate=0.1, count=1)\n",
    "\n",
    "start_t = time.time()\n",
    "demo_res = robustper_wrap(demo_sigdf)\n",
    "end_t = time.time()\n",
    "print(\"Processing time is: {} seconds\".format(end_t - start_t))"
   ]
  },
  {
   "cell_type": "markdown",
   "metadata": {},
   "source": [
    "### RobustPeriods Rerun\n",
    "- Run the following blocks to recompute the whole RobustPeriod evaluation session\n",
    "- **[Warning]** Note that it usually takes hours to finish. \n",
    "- For example, we want to test 20 std values. For each std value, 100 signals are generated. And for each signal series,  the algorithm needs 30 seconds processing time. If the computer has 16 cores, it will take 20 * 100 * 30 / 16 = 1. hours. "
   ]
  },
  {
   "cell_type": "code",
   "execution_count": 7,
   "metadata": {},
   "outputs": [
    {
     "name": "stdout",
     "output_type": "stream",
     "text": [
      "Gaussian Noise Level: 100 %\n",
      "data/omt/per_010_omt_100.parquet\n",
      "Loading data...\n",
      "Processing RobustPeriod detection...\n",
      "Getting Stats...\n",
      "PERIODS:10, STD: 0.0, OMT: 1.0 \n",
      "RobustPeriods: 0.0\n",
      "\n"
     ]
    }
   ],
   "source": [
    "stats_robust = pd.DataFrame(columns=[\"per\", \"std\", \"omt\", \"acc\", \"method\"]) \n",
    "\n",
    "for per_m in perl:\n",
    "    per = per_m * 60 # minute to seconds\n",
    "    print(\"Generating Signals of Periodicity: {} minutes\".format(per_m))\n",
    "    \n",
    "    for value in omtl:\n",
    "        omt = float(value)/100\n",
    "        print(\"Gaussian Noise Level: {} %\".format(value))\n",
    "        datafpath = os.path.join(datarootdir, datafilefmt.format(\"{0:03d}\".format(per_m), \"{0:03d}\".format(value)))\n",
    "        print(datafpath)\n",
    "        \n",
    "        # Load or generate simulated signals\n",
    "        if not regenerate and os.path.exists(datafpath):\n",
    "            print(\"Loading data...\")\n",
    "            sigdf = pd.read_parquet(datafpath)\n",
    "        else:\n",
    "            print(\"ReGenerating data...\")\n",
    "            sigdf = gen_signal_df(per, std, omit_rate=omt, count=cnt)\n",
    "            print(\"Saving data...\")\n",
    "            sigdf.to_parquet(datafpath, index=False)\n",
    "\n",
    "        if multiproc: \n",
    "            print(\"Processing RobustPeriod detection...\")\n",
    "            robust_resdf = mltproc_robustper_wrap(sigdf, maxproc=processors)\n",
    "        else:\n",
    "            print(\"Processing RobustPeriod detection...\")\n",
    "            robust_resdf = robustper_wrap(sigdf)\n",
    "        \n",
    "        print(\"Getting Stats...\")\n",
    "        robust_acc = get_acc(robust_resdf, totalcnt=cnt)\n",
    "        \n",
    "        print(\"PERIODS:{}, STD: {}, OMT: {} \\nRobustPeriods: {}\\n\".format(per_m, std, omt, robust_acc))\n",
    "        \n",
    "        ## update statatistic dataframe for plotting.\n",
    "        stats_robust = stats_robust.append({\"per\": per, \"std\": std, \"omt\": value, \"acc\": robust_acc, \"method\": \"RobustPeriod\"}, ignore_index=True)\n",
    "        clear_output(wait=True)"
   ]
  },
  {
   "cell_type": "markdown",
   "metadata": {},
   "source": [
    "### Save Results\n",
    "Save your newly computed robust period data by uncomment the following line"
   ]
  },
  {
   "cell_type": "code",
   "execution_count": 8,
   "metadata": {},
   "outputs": [],
   "source": [
    "stats_robust.to_csv(\"results/omt_robust_newresults.csv\", index=False)"
   ]
  },
  {
   "cell_type": "code",
   "execution_count": null,
   "metadata": {},
   "outputs": [],
   "source": []
  }
 ],
 "metadata": {
  "kernelspec": {
   "display_name": "Python 3 (ipykernel)",
   "language": "python",
   "name": "python3"
  },
  "language_info": {
   "codemirror_mode": {
    "name": "ipython",
    "version": 3
   },
   "file_extension": ".py",
   "mimetype": "text/x-python",
   "name": "python",
   "nbconvert_exporter": "python",
   "pygments_lexer": "ipython3",
   "version": "3.8.3"
  }
 },
 "nbformat": 4,
 "nbformat_minor": 4
}
