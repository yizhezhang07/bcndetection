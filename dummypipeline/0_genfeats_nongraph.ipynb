{
 "cells": [
  {
   "cell_type": "markdown",
   "metadata": {},
   "source": [
    "### Demo: Generate Non Graph Features\n",
    "- This notebook generates the local historical and local popularity file that is updated on a daily bases.\n",
    "- The notebook also shows how we generate features that do not rely on the graph database. For example, periodicity features, popularity features, FQDN semantic features etc.\n",
    "- **Note** Run this notebook before run the `1_genfeats_graph.ipynb`, as the graph data depends on some files generated from this notebook."
   ]
  },
  {
   "cell_type": "code",
   "execution_count": 1,
   "metadata": {
    "tags": []
   },
   "outputs": [],
   "source": [
    "import pandas as pd\n",
    "import numpy as np\n",
    "import datetime\n",
    "import os"
   ]
  },
  {
   "cell_type": "markdown",
   "metadata": {},
   "source": [
    "### Historical and Temporal features\n",
    "This notebook shows how we generate non graph-based features, e.g. historical features and temporal features. \n",
    "- Due to restrictions, we can not share our original data. Hence, we provide a dummy dataset:\n",
    "    - `dummy100.csv`: we sampled 100 rows of non-user-sensitive periodic FQDNs from 2021-03-30. We carefully examined every host name to ensure there's no privacy leakage. We restricted FQDNs to domains that have periodic activity because non-periodic domains are filtered out before feature generation in the daily pipeline.\n",
    "    - The file contains the host name, server IP and port extracted from Zeek logs. Client IPs are faked to avoid privacy leakage.\n",
    "    - `periodic100.parquet`: the corresponding periodicity detection results of the 100 servers.\n",
    "    - `hist100_0329.csv`: the history file we got from our pipeline on 2021-03-29.\n",
    "    - `cisco_top1m.csv`: the cisco top 1 million data we pulled on 2021-03-30."
   ]
  },
  {
   "cell_type": "code",
   "execution_count": 2,
   "metadata": {
    "tags": []
   },
   "outputs": [],
   "source": [
    "# we read the above data\n",
    "host100 = pd.read_csv(\"dummydata/dummy100.csv\")\n",
    "per100 = pd.read_parquet(\"dummydata/periodic100.parquet\")\n",
    "cisco_1m = pd.read_csv(\"dummydata/cisco_top1m.csv\", names=[\"host\", \"rank\"])\n",
    "hist100_0329 = pd.read_csv(\"dummydata/hist100_0329.csv\") \n",
    "\n",
    "# We set the logday: 2021-03-30. \n",
    "# This is important in our deployment, but not that important in our demo here.\n",
    "# Because in our deployment, the pipeline is run on a daily bases. \n",
    "# Features on Day N, sometimes depends on the results of Day N-1. \n",
    "logday = \"2021-03-30\""
   ]
  },
  {
   "cell_type": "markdown",
   "metadata": {},
   "source": [
    "### Generate local historical and popularity file\n",
    "- We first generate local historical and popularity files."
   ]
  },
  {
   "cell_type": "code",
   "execution_count": 3,
   "metadata": {
    "tags": []
   },
   "outputs": [],
   "source": [
    "from src.dom_history import gen_domain_history\n",
    "from src.dom_popularity import gen_popular_host"
   ]
  },
  {
   "cell_type": "code",
   "execution_count": 4,
   "metadata": {
    "tags": []
   },
   "outputs": [
    {
     "name": "stderr",
     "output_type": "stream",
     "text": [
      "/home/ubuntu/bcndetection/dummypipeline/src/dom_history.py:90: SettingWithCopyWarning: \n",
      "A value is trying to be set on a copy of a slice from a DataFrame.\n",
      "Try using .loc[row_indexer,col_indexer] = value instead\n",
      "\n",
      "See the caveats in the documentation: https://pandas.pydata.org/pandas-docs/stable/user_guide/indexing.html#returning-a-view-versus-a-copy\n",
      "  zeek_df[\"temp\"] = 1\n"
     ]
    }
   ],
   "source": [
    "\"\"\"\n",
    "generate local history file\n",
    "hist_df: day n-1 historical file\n",
    "zeek_df: daily logs\n",
    "compute_info: logday\n",
    "\"\"\"\n",
    "hist100 = gen_domain_history(hist_df=hist100_0329, zeek_df=host100[[\"host\"]], \n",
    "                             compute_info={\"start_dt\":datetime.datetime(2021,3,30)})\n",
    "hist100.to_parquet(\"dummydata/hist100.parquet\", index=False)"
   ]
  },
  {
   "cell_type": "code",
   "execution_count": 5,
   "metadata": {
    "tags": []
   },
   "outputs": [
    {
     "data": {
      "text/html": [
       "<div>\n",
       "<style scoped>\n",
       "    .dataframe tbody tr th:only-of-type {\n",
       "        vertical-align: middle;\n",
       "    }\n",
       "\n",
       "    .dataframe tbody tr th {\n",
       "        vertical-align: top;\n",
       "    }\n",
       "\n",
       "    .dataframe thead th {\n",
       "        text-align: right;\n",
       "    }\n",
       "</style>\n",
       "<table border=\"1\" class=\"dataframe\">\n",
       "  <thead>\n",
       "    <tr style=\"text-align: right;\">\n",
       "      <th></th>\n",
       "      <th>firstseen_date</th>\n",
       "      <th>lastseen_date</th>\n",
       "      <th>firstseen_log_type</th>\n",
       "      <th>lastseen_log_type</th>\n",
       "      <th>days_since_lastseen</th>\n",
       "      <th>days_since_firstseen</th>\n",
       "      <th>count_since_firstseen</th>\n",
       "      <th>isIP</th>\n",
       "      <th>host</th>\n",
       "    </tr>\n",
       "  </thead>\n",
       "  <tbody>\n",
       "    <tr>\n",
       "      <th>0</th>\n",
       "      <td>2020-05-02</td>\n",
       "      <td>2021-03-30</td>\n",
       "      <td>HTTPSSL</td>\n",
       "      <td>HTTPSSL</td>\n",
       "      <td>0</td>\n",
       "      <td>332</td>\n",
       "      <td>331.0</td>\n",
       "      <td>1.0</td>\n",
       "      <td>104.192.108.134</td>\n",
       "    </tr>\n",
       "    <tr>\n",
       "      <th>1</th>\n",
       "      <td>2020-05-02</td>\n",
       "      <td>2021-03-30</td>\n",
       "      <td>HTTPSSL</td>\n",
       "      <td>HTTPSSL</td>\n",
       "      <td>0</td>\n",
       "      <td>332</td>\n",
       "      <td>331.0</td>\n",
       "      <td>1.0</td>\n",
       "      <td>110.43.89.12</td>\n",
       "    </tr>\n",
       "  </tbody>\n",
       "</table>\n",
       "</div>"
      ],
      "text/plain": [
       "  firstseen_date lastseen_date firstseen_log_type lastseen_log_type  \\\n",
       "0     2020-05-02    2021-03-30            HTTPSSL           HTTPSSL   \n",
       "1     2020-05-02    2021-03-30            HTTPSSL           HTTPSSL   \n",
       "\n",
       "   days_since_lastseen  days_since_firstseen  count_since_firstseen isIP  \\\n",
       "0                    0                   332                  331.0  1.0   \n",
       "1                    0                   332                  331.0  1.0   \n",
       "\n",
       "              host  \n",
       "0  104.192.108.134  \n",
       "1     110.43.89.12  "
      ]
     },
     "execution_count": 5,
     "metadata": {},
     "output_type": "execute_result"
    }
   ],
   "source": [
    "### history file shows the first seen and last seen date of the domain name,\n",
    "### domains that hasn't been visited 30 days will be removed from the history file\n",
    "hist100.head(2)"
   ]
  },
  {
   "cell_type": "code",
   "execution_count": 6,
   "metadata": {
    "tags": []
   },
   "outputs": [],
   "source": [
    "\"\"\"\n",
    "local popularity data are also generated on a daily bases\n",
    "local popularity is defined as:\n",
    "the count of unique client IPs visiting the server/ total IPs observed in the campus on that day\n",
    "zeek_df: daily logs\n",
    "\"\"\"\n",
    "poplocal = gen_popular_host(zeek_df=host100)\n",
    "poplocal.to_parquet(\"dummydata/popularity100.parquet\", index=False)"
   ]
  },
  {
   "cell_type": "code",
   "execution_count": 7,
   "metadata": {
    "tags": []
   },
   "outputs": [
    {
     "data": {
      "text/html": [
       "<div>\n",
       "<style scoped>\n",
       "    .dataframe tbody tr th:only-of-type {\n",
       "        vertical-align: middle;\n",
       "    }\n",
       "\n",
       "    .dataframe tbody tr th {\n",
       "        vertical-align: top;\n",
       "    }\n",
       "\n",
       "    .dataframe thead th {\n",
       "        text-align: right;\n",
       "    }\n",
       "</style>\n",
       "<table border=\"1\" class=\"dataframe\">\n",
       "  <thead>\n",
       "    <tr style=\"text-align: right;\">\n",
       "      <th></th>\n",
       "      <th>host</th>\n",
       "      <th>fqdn_popularity</th>\n",
       "    </tr>\n",
       "  </thead>\n",
       "  <tbody>\n",
       "    <tr>\n",
       "      <th>0</th>\n",
       "      <td>104.104.90.50</td>\n",
       "      <td>0.333333</td>\n",
       "    </tr>\n",
       "    <tr>\n",
       "      <th>1</th>\n",
       "      <td>104.192.108.134</td>\n",
       "      <td>0.333333</td>\n",
       "    </tr>\n",
       "  </tbody>\n",
       "</table>\n",
       "</div>"
      ],
      "text/plain": [
       "              host  fqdn_popularity\n",
       "0    104.104.90.50         0.333333\n",
       "1  104.192.108.134         0.333333"
      ]
     },
     "execution_count": 7,
     "metadata": {},
     "output_type": "execute_result"
    }
   ],
   "source": [
    "poplocal.head(2)"
   ]
  },
  {
   "cell_type": "markdown",
   "metadata": {
    "tags": []
   },
   "source": [
    "#### Historical features\n",
    "- The below code generates historical features that do not rely on the graph database.\n",
    "- The features describe the visiting frequency of the domain in campus networks."
   ]
  },
  {
   "cell_type": "code",
   "execution_count": 8,
   "metadata": {
    "tags": []
   },
   "outputs": [],
   "source": [
    "from src.hist_feats import gen_history_score"
   ]
  },
  {
   "cell_type": "code",
   "execution_count": 9,
   "metadata": {
    "tags": []
   },
   "outputs": [
    {
     "name": "stdout",
     "output_type": "stream",
     "text": [
      "[Info] Raw Data shape: (100, 1)\n",
      "[Info] History Data shape: (100, 9)\n",
      "[Info] Features Shape (100, 3)\n",
      "[Info] History Features Saved to: dummydata/features/2021-03-30/features_hist.parquet\n"
     ]
    }
   ],
   "source": [
    "\"\"\"\n",
    "logday: date when the log is collected\n",
    "datafpath: path to the log file\n",
    "histfpath: path to the history file\n",
    "savefpath: path to save the generated features\n",
    "\"\"\"\n",
    "\n",
    "logday = \"2021-03-30\"\n",
    "featsdir = \"dummydata/features/{}\".format(logday)\n",
    "histfeats = gen_history_score(logday=\"2021-03-30\", datafpath=\"dummydata/periodic100.parquet\",\n",
    "                             histfpath=\"dummydata/hist100.parquet\", \n",
    "                             savefpath=os.path.join(featsdir, \"features_hist.parquet\"))"
   ]
  },
  {
   "cell_type": "code",
   "execution_count": 10,
   "metadata": {
    "tags": []
   },
   "outputs": [
    {
     "data": {
      "text/html": [
       "<div>\n",
       "<style scoped>\n",
       "    .dataframe tbody tr th:only-of-type {\n",
       "        vertical-align: middle;\n",
       "    }\n",
       "\n",
       "    .dataframe tbody tr th {\n",
       "        vertical-align: top;\n",
       "    }\n",
       "\n",
       "    .dataframe thead th {\n",
       "        text-align: right;\n",
       "    }\n",
       "</style>\n",
       "<table border=\"1\" class=\"dataframe\">\n",
       "  <thead>\n",
       "    <tr style=\"text-align: right;\">\n",
       "      <th></th>\n",
       "      <th>host</th>\n",
       "      <th>freq</th>\n",
       "      <th>occ</th>\n",
       "    </tr>\n",
       "  </thead>\n",
       "  <tbody>\n",
       "    <tr>\n",
       "      <th>27</th>\n",
       "      <td>st.dabaraw.com</td>\n",
       "      <td>0.233333</td>\n",
       "      <td>0.125000</td>\n",
       "    </tr>\n",
       "    <tr>\n",
       "      <th>13</th>\n",
       "      <td>sgminorshort.wechat.com</td>\n",
       "      <td>0.566667</td>\n",
       "      <td>0.037037</td>\n",
       "    </tr>\n",
       "    <tr>\n",
       "      <th>43</th>\n",
       "      <td>wx.huion.cn</td>\n",
       "      <td>1.633333</td>\n",
       "      <td>0.017544</td>\n",
       "    </tr>\n",
       "    <tr>\n",
       "      <th>51</th>\n",
       "      <td>todolist.redirect.xzdesktop.cqttech.com</td>\n",
       "      <td>1.800000</td>\n",
       "      <td>0.017544</td>\n",
       "    </tr>\n",
       "    <tr>\n",
       "      <th>93</th>\n",
       "      <td>uploads.engagephd.com</td>\n",
       "      <td>2.500000</td>\n",
       "      <td>0.013333</td>\n",
       "    </tr>\n",
       "  </tbody>\n",
       "</table>\n",
       "</div>"
      ],
      "text/plain": [
       "                                       host      freq       occ\n",
       "27                           st.dabaraw.com  0.233333  0.125000\n",
       "13                  sgminorshort.wechat.com  0.566667  0.037037\n",
       "43                              wx.huion.cn  1.633333  0.017544\n",
       "51  todolist.redirect.xzdesktop.cqttech.com  1.800000  0.017544\n",
       "93                    uploads.engagephd.com  2.500000  0.013333"
      ]
     },
     "execution_count": 10,
     "metadata": {},
     "output_type": "execute_result"
    }
   ],
   "source": [
    "histfeats.sort_values(by=[\"occ\"], ascending=False).head(5)"
   ]
  },
  {
   "cell_type": "markdown",
   "metadata": {
    "tags": []
   },
   "source": [
    "#### Temporal features\n",
    "- The below code blocks generate features based on periodicity\n",
    "    - For each periodicity we measure its popularity based on cisco and local popularity.\n",
    "    - For each periodicity we measure its maliciousness based on a historical file that logs the observed malicious domain. This file is updated daily based on feedback/queries from the active-learning pipeline."
   ]
  },
  {
   "cell_type": "code",
   "execution_count": 11,
   "metadata": {
    "tags": []
   },
   "outputs": [],
   "source": [
    "from src.temporal_feats import gen_popularity_score, gen_hist_malscore"
   ]
  },
  {
   "cell_type": "code",
   "execution_count": 12,
   "metadata": {
    "tags": []
   },
   "outputs": [
    {
     "name": "stdout",
     "output_type": "stream",
     "text": [
      "[Info]====== Generate Popularity Features for date: 2021-03-30 ======\n",
      "[Info] Raw Data shape: (100, 2)\n",
      "[Info] Features Shape (100, 16)\n",
      "[Info] Popularity Features Saved to: dummydata/features/2021-03-30/features_per.parquet\n"
     ]
    }
   ],
   "source": [
    "\"\"\"\n",
    "The below function generate temporal related popularity features.\n",
    "To do so, we need to read the periodicity detection data. \n",
    "Note that aperiodic servers are filtered out in the pipeline, \n",
    "because our target is to detect malicious beaconing (periodic) activity. \n",
    "\n",
    "logday: date when the log is collected\n",
    "perfpath: path to the periodicity detection file\n",
    "popularityfpath: path to the local popularity file\n",
    "ciscofpath: path to the global popularity file\n",
    "savefpath: path to save the generated feature\n",
    "\"\"\"\n",
    "\n",
    "tempfeats = gen_popularity_score(logday=logday, perfpath=\"dummydata/periodic100.parquet\", \n",
    "                     popularityfpath=\"dummydata/popularity100.parquet\",\n",
    "                     ciscofpath=\"dummydata/cisco_top1m.csv\",\n",
    "                     savefpath=os.path.join(featsdir, \"features_per.parquet\"))"
   ]
  },
  {
   "cell_type": "code",
   "execution_count": 13,
   "metadata": {
    "tags": []
   },
   "outputs": [
    {
     "data": {
      "text/html": [
       "<div>\n",
       "<style scoped>\n",
       "    .dataframe tbody tr th:only-of-type {\n",
       "        vertical-align: middle;\n",
       "    }\n",
       "\n",
       "    .dataframe tbody tr th {\n",
       "        vertical-align: top;\n",
       "    }\n",
       "\n",
       "    .dataframe thead th {\n",
       "        text-align: right;\n",
       "    }\n",
       "</style>\n",
       "<table border=\"1\" class=\"dataframe\">\n",
       "  <thead>\n",
       "    <tr style=\"text-align: right;\">\n",
       "      <th></th>\n",
       "      <th>host</th>\n",
       "      <th>mean_fqdn_period</th>\n",
       "      <th>max_fqdn_period</th>\n",
       "      <th>min_fqdn_period</th>\n",
       "      <th>std_fqdn_period</th>\n",
       "      <th>min_per</th>\n",
       "      <th>max_per</th>\n",
       "      <th>std_per</th>\n",
       "      <th>mean_per</th>\n",
       "      <th>cisco_min_period</th>\n",
       "      <th>cisco_max_period</th>\n",
       "      <th>cisco_mean_period</th>\n",
       "      <th>cisco_median_period</th>\n",
       "      <th>cisco_ratio_period</th>\n",
       "      <th>cisco_score</th>\n",
       "      <th>fqdn_popularity</th>\n",
       "    </tr>\n",
       "  </thead>\n",
       "  <tbody>\n",
       "    <tr>\n",
       "      <th>0</th>\n",
       "      <td>104.104.90.50</td>\n",
       "      <td>12.0</td>\n",
       "      <td>12</td>\n",
       "      <td>12</td>\n",
       "      <td>0.000000</td>\n",
       "      <td>10.0</td>\n",
       "      <td>10.0</td>\n",
       "      <td>0.000000</td>\n",
       "      <td>10.00</td>\n",
       "      <td>0.000000</td>\n",
       "      <td>0.988730</td>\n",
       "      <td>0.638616</td>\n",
       "      <td>0.809256</td>\n",
       "      <td>0.750000</td>\n",
       "      <td>0.000000</td>\n",
       "      <td>0.333333</td>\n",
       "    </tr>\n",
       "    <tr>\n",
       "      <th>1</th>\n",
       "      <td>104.192.108.134</td>\n",
       "      <td>2.0</td>\n",
       "      <td>2</td>\n",
       "      <td>2</td>\n",
       "      <td>0.000000</td>\n",
       "      <td>80.0</td>\n",
       "      <td>80.0</td>\n",
       "      <td>0.000000</td>\n",
       "      <td>80.00</td>\n",
       "      <td>0.000000</td>\n",
       "      <td>0.978719</td>\n",
       "      <td>0.489360</td>\n",
       "      <td>0.489360</td>\n",
       "      <td>0.500000</td>\n",
       "      <td>0.000000</td>\n",
       "      <td>0.333333</td>\n",
       "    </tr>\n",
       "    <tr>\n",
       "      <th>2</th>\n",
       "      <td>110.43.89.12</td>\n",
       "      <td>11.0</td>\n",
       "      <td>11</td>\n",
       "      <td>11</td>\n",
       "      <td>0.000000</td>\n",
       "      <td>240.0</td>\n",
       "      <td>240.0</td>\n",
       "      <td>0.000000</td>\n",
       "      <td>240.00</td>\n",
       "      <td>0.000000</td>\n",
       "      <td>0.990054</td>\n",
       "      <td>0.669006</td>\n",
       "      <td>0.840967</td>\n",
       "      <td>0.727273</td>\n",
       "      <td>0.000000</td>\n",
       "      <td>0.333333</td>\n",
       "    </tr>\n",
       "    <tr>\n",
       "      <th>3</th>\n",
       "      <td>15dfjkbvdf.club</td>\n",
       "      <td>2.0</td>\n",
       "      <td>2</td>\n",
       "      <td>2</td>\n",
       "      <td>0.000000</td>\n",
       "      <td>53.0</td>\n",
       "      <td>53.0</td>\n",
       "      <td>0.000000</td>\n",
       "      <td>53.00</td>\n",
       "      <td>0.690024</td>\n",
       "      <td>0.867957</td>\n",
       "      <td>0.778990</td>\n",
       "      <td>0.778990</td>\n",
       "      <td>1.000000</td>\n",
       "      <td>0.690024</td>\n",
       "      <td>0.333333</td>\n",
       "    </tr>\n",
       "    <tr>\n",
       "      <th>4</th>\n",
       "      <td>203.205.219.244</td>\n",
       "      <td>3.5</td>\n",
       "      <td>6</td>\n",
       "      <td>1</td>\n",
       "      <td>2.081666</td>\n",
       "      <td>72.0</td>\n",
       "      <td>160.0</td>\n",
       "      <td>39.084311</td>\n",
       "      <td>103.25</td>\n",
       "      <td>0.000000</td>\n",
       "      <td>0.992670</td>\n",
       "      <td>0.545816</td>\n",
       "      <td>0.876262</td>\n",
       "      <td>0.571429</td>\n",
       "      <td>0.000000</td>\n",
       "      <td>0.333333</td>\n",
       "    </tr>\n",
       "  </tbody>\n",
       "</table>\n",
       "</div>"
      ],
      "text/plain": [
       "              host  mean_fqdn_period  max_fqdn_period  min_fqdn_period  \\\n",
       "0    104.104.90.50              12.0               12               12   \n",
       "1  104.192.108.134               2.0                2                2   \n",
       "2     110.43.89.12              11.0               11               11   \n",
       "3  15dfjkbvdf.club               2.0                2                2   \n",
       "4  203.205.219.244               3.5                6                1   \n",
       "\n",
       "   std_fqdn_period  min_per  max_per    std_per  mean_per  cisco_min_period  \\\n",
       "0         0.000000     10.0     10.0   0.000000     10.00          0.000000   \n",
       "1         0.000000     80.0     80.0   0.000000     80.00          0.000000   \n",
       "2         0.000000    240.0    240.0   0.000000    240.00          0.000000   \n",
       "3         0.000000     53.0     53.0   0.000000     53.00          0.690024   \n",
       "4         2.081666     72.0    160.0  39.084311    103.25          0.000000   \n",
       "\n",
       "   cisco_max_period  cisco_mean_period  cisco_median_period  \\\n",
       "0          0.988730           0.638616             0.809256   \n",
       "1          0.978719           0.489360             0.489360   \n",
       "2          0.990054           0.669006             0.840967   \n",
       "3          0.867957           0.778990             0.778990   \n",
       "4          0.992670           0.545816             0.876262   \n",
       "\n",
       "   cisco_ratio_period  cisco_score  fqdn_popularity  \n",
       "0            0.750000     0.000000         0.333333  \n",
       "1            0.500000     0.000000         0.333333  \n",
       "2            0.727273     0.000000         0.333333  \n",
       "3            1.000000     0.690024         0.333333  \n",
       "4            0.571429     0.000000         0.333333  "
      ]
     },
     "execution_count": 13,
     "metadata": {},
     "output_type": "execute_result"
    }
   ],
   "source": [
    "tempfeats.head(5)"
   ]
  },
  {
   "cell_type": "code",
   "execution_count": 14,
   "metadata": {
    "tags": []
   },
   "outputs": [
    {
     "name": "stdout",
     "output_type": "stream",
     "text": [
      "[Info]====== Generate hist Mal Features for date: 2021-03-30 ======\n",
      "[Info] Raw Data shape: (100, 4)\n",
      "[Info] Features Shape (100, 6)\n",
      "[Info] hist Mal Features Save Data to: dummydata/features/2021-03-30/features_histmal.parquet\n"
     ]
    },
    {
     "name": "stderr",
     "output_type": "stream",
     "text": [
      "/home/ubuntu/bcndetection/dummypipeline/src/temporal_feats.py:88: SettingWithCopyWarning: \n",
      "A value is trying to be set on a copy of a slice from a DataFrame.\n",
      "Try using .loc[row_indexer,col_indexer] = value instead\n",
      "\n",
      "See the caveats in the documentation: https://pandas.pydata.org/pandas-docs/stable/user_guide/indexing.html#returning-a-view-versus-a-copy\n",
      "  df[\"periodicities\"] = df[\"true_periods\"]\n",
      "/home/ubuntu/bcndetection/dummypipeline/src/temporal_feats.py:89: SettingWithCopyWarning: \n",
      "A value is trying to be set on a copy of a slice from a DataFrame.\n",
      "Try using .loc[row_indexer,col_indexer] = value instead\n",
      "\n",
      "See the caveats in the documentation: https://pandas.pydata.org/pandas-docs/stable/user_guide/indexing.html#returning-a-view-versus-a-copy\n",
      "  df[\"integer_pers\"] = df[\"periodicities\"].apply(lambda x: np.unique([np.rint(i) for i in x]))\n"
     ]
    }
   ],
   "source": [
    "\"\"\"\n",
    "The below function generate temporal related malicious score features.\n",
    "The function reads 'dummydata/malicious_hist.csv' at backend.\n",
    "The file that keep recording the observed suspicious domains.\n",
    "To generate Day N's features, we use Day N-1 file.\n",
    "\n",
    "logday: date when the log is collected\n",
    "perfpath: path to the periodicity detection file\n",
    "savefpath: path to save the generated feature\n",
    "\"\"\"\n",
    "hist_malfeats = gen_hist_malscore(logday=logday, perfpath=\"dummydata/periodic100.parquet\",\n",
    "                                 savefpath=os.path.join(featsdir, \"features_histmal.parquet\"))"
   ]
  },
  {
   "cell_type": "markdown",
   "metadata": {
    "tags": []
   },
   "source": [
    "#### FQDN features\n",
    "The below code generates FQDN based semantic features, e.g. entropy, domain length."
   ]
  },
  {
   "cell_type": "code",
   "execution_count": 15,
   "metadata": {
    "tags": []
   },
   "outputs": [],
   "source": [
    "from src.fqdn_feats import gen_fqdn_features"
   ]
  },
  {
   "cell_type": "code",
   "execution_count": 16,
   "metadata": {
    "tags": []
   },
   "outputs": [
    {
     "name": "stdout",
     "output_type": "stream",
     "text": [
      "[Info]====== Generate Popularity Features for date: 2021-03-30 ======\n",
      "[Info] Raw Data shape: (100, 2)\n",
      "[Info] Features Shape (100, 12)\n",
      "[Info] Popularity Features Saved to: dummydata/features/2021-03-30/features_fqdn.parquet\n"
     ]
    }
   ],
   "source": [
    "\"\"\"\n",
    "The below function generate fqdn related semantic features, i.e. entropy, domain level etc.\n",
    "\n",
    "logday: date when the log is collected\n",
    "perfpath: path to the periodicity detection file\n",
    "savefpath: path to save the generated feature\n",
    "\"\"\"\n",
    "\n",
    "fqdn_feats = gen_fqdn_features(logday, perfpath = \"dummydata/periodic100.parquet\",\n",
    "                               savefpath=os.path.join(featsdir, \"features_fqdn.parquet\"))"
   ]
  },
  {
   "cell_type": "code",
   "execution_count": 17,
   "metadata": {
    "tags": []
   },
   "outputs": [
    {
     "data": {
      "text/html": [
       "<div>\n",
       "<style scoped>\n",
       "    .dataframe tbody tr th:only-of-type {\n",
       "        vertical-align: middle;\n",
       "    }\n",
       "\n",
       "    .dataframe tbody tr th {\n",
       "        vertical-align: top;\n",
       "    }\n",
       "\n",
       "    .dataframe thead th {\n",
       "        text-align: right;\n",
       "    }\n",
       "</style>\n",
       "<table border=\"1\" class=\"dataframe\">\n",
       "  <thead>\n",
       "    <tr style=\"text-align: right;\">\n",
       "      <th></th>\n",
       "      <th>host</th>\n",
       "      <th>psd_ratio</th>\n",
       "      <th>dom_illegal</th>\n",
       "      <th>dom_sld_entropy</th>\n",
       "      <th>subdom_entropy</th>\n",
       "      <th>dom_entropy</th>\n",
       "      <th>fqdn_entropy</th>\n",
       "      <th>dom_tldcnt</th>\n",
       "      <th>dom_sldcnt</th>\n",
       "      <th>dom_subcnt</th>\n",
       "      <th>dom_level</th>\n",
       "      <th>dom_length</th>\n",
       "    </tr>\n",
       "  </thead>\n",
       "  <tbody>\n",
       "    <tr>\n",
       "      <th>16</th>\n",
       "      <td>www.horosproject.org</td>\n",
       "      <td>11.022869</td>\n",
       "      <td>0</td>\n",
       "      <td>3.022055</td>\n",
       "      <td>-0.000000</td>\n",
       "      <td>3.202820</td>\n",
       "      <td>3.346439</td>\n",
       "      <td>0</td>\n",
       "      <td>0</td>\n",
       "      <td>1</td>\n",
       "      <td>1</td>\n",
       "      <td>20</td>\n",
       "    </tr>\n",
       "    <tr>\n",
       "      <th>21</th>\n",
       "      <td>kindle-time.amazon.com</td>\n",
       "      <td>11.211672</td>\n",
       "      <td>0</td>\n",
       "      <td>2.251629</td>\n",
       "      <td>3.095795</td>\n",
       "      <td>2.721928</td>\n",
       "      <td>3.697846</td>\n",
       "      <td>0</td>\n",
       "      <td>0</td>\n",
       "      <td>1</td>\n",
       "      <td>1</td>\n",
       "      <td>22</td>\n",
       "    </tr>\n",
       "    <tr>\n",
       "      <th>36</th>\n",
       "      <td>weather.service.msn.com</td>\n",
       "      <td>1.610196</td>\n",
       "      <td>0</td>\n",
       "      <td>1.584963</td>\n",
       "      <td>3.240224</td>\n",
       "      <td>2.521641</td>\n",
       "      <td>3.621176</td>\n",
       "      <td>0</td>\n",
       "      <td>0</td>\n",
       "      <td>2</td>\n",
       "      <td>2</td>\n",
       "      <td>23</td>\n",
       "    </tr>\n",
       "    <tr>\n",
       "      <th>43</th>\n",
       "      <td>pico.eset.com</td>\n",
       "      <td>5.632438</td>\n",
       "      <td>0</td>\n",
       "      <td>1.500000</td>\n",
       "      <td>2.000000</td>\n",
       "      <td>2.750000</td>\n",
       "      <td>3.085055</td>\n",
       "      <td>0</td>\n",
       "      <td>0</td>\n",
       "      <td>1</td>\n",
       "      <td>1</td>\n",
       "      <td>13</td>\n",
       "    </tr>\n",
       "    <tr>\n",
       "      <th>55</th>\n",
       "      <td>qbwup.imtt.qq.com</td>\n",
       "      <td>6.281895</td>\n",
       "      <td>0</td>\n",
       "      <td>-0.000000</td>\n",
       "      <td>3.121928</td>\n",
       "      <td>2.251629</td>\n",
       "      <td>3.292770</td>\n",
       "      <td>0</td>\n",
       "      <td>0</td>\n",
       "      <td>2</td>\n",
       "      <td>2</td>\n",
       "      <td>17</td>\n",
       "    </tr>\n",
       "    <tr>\n",
       "      <th>...</th>\n",
       "      <td>...</td>\n",
       "      <td>...</td>\n",
       "      <td>...</td>\n",
       "      <td>...</td>\n",
       "      <td>...</td>\n",
       "      <td>...</td>\n",
       "      <td>...</td>\n",
       "      <td>...</td>\n",
       "      <td>...</td>\n",
       "      <td>...</td>\n",
       "      <td>...</td>\n",
       "      <td>...</td>\n",
       "    </tr>\n",
       "    <tr>\n",
       "      <th>777</th>\n",
       "      <td>ts.minipage.2345.cc</td>\n",
       "      <td>1.408176</td>\n",
       "      <td>0</td>\n",
       "      <td>2.000000</td>\n",
       "      <td>3.277613</td>\n",
       "      <td>2.521641</td>\n",
       "      <td>3.787144</td>\n",
       "      <td>0</td>\n",
       "      <td>0</td>\n",
       "      <td>2</td>\n",
       "      <td>2</td>\n",
       "      <td>19</td>\n",
       "    </tr>\n",
       "    <tr>\n",
       "      <th>778</th>\n",
       "      <td>uapi.mp.360.cn</td>\n",
       "      <td>2.267621</td>\n",
       "      <td>0</td>\n",
       "      <td>1.584963</td>\n",
       "      <td>2.521641</td>\n",
       "      <td>2.584963</td>\n",
       "      <td>3.324863</td>\n",
       "      <td>0</td>\n",
       "      <td>0</td>\n",
       "      <td>2</td>\n",
       "      <td>2</td>\n",
       "      <td>14</td>\n",
       "    </tr>\n",
       "    <tr>\n",
       "      <th>779</th>\n",
       "      <td>upgrade.actiontec.com</td>\n",
       "      <td>2.619776</td>\n",
       "      <td>0</td>\n",
       "      <td>2.725481</td>\n",
       "      <td>2.807355</td>\n",
       "      <td>3.026987</td>\n",
       "      <td>3.689704</td>\n",
       "      <td>0</td>\n",
       "      <td>0</td>\n",
       "      <td>1</td>\n",
       "      <td>1</td>\n",
       "      <td>21</td>\n",
       "    </tr>\n",
       "    <tr>\n",
       "      <th>781</th>\n",
       "      <td>tracker.lelux.fi</td>\n",
       "      <td>1.156560</td>\n",
       "      <td>0</td>\n",
       "      <td>1.921928</td>\n",
       "      <td>2.521641</td>\n",
       "      <td>2.750000</td>\n",
       "      <td>3.500000</td>\n",
       "      <td>0</td>\n",
       "      <td>0</td>\n",
       "      <td>1</td>\n",
       "      <td>1</td>\n",
       "      <td>16</td>\n",
       "    </tr>\n",
       "    <tr>\n",
       "      <th>790</th>\n",
       "      <td>ps1.es.net</td>\n",
       "      <td>4.146479</td>\n",
       "      <td>0</td>\n",
       "      <td>1.000000</td>\n",
       "      <td>1.584963</td>\n",
       "      <td>2.251629</td>\n",
       "      <td>2.721928</td>\n",
       "      <td>0</td>\n",
       "      <td>0</td>\n",
       "      <td>1</td>\n",
       "      <td>1</td>\n",
       "      <td>10</td>\n",
       "    </tr>\n",
       "  </tbody>\n",
       "</table>\n",
       "<p>100 rows × 12 columns</p>\n",
       "</div>"
      ],
      "text/plain": [
       "                        host  psd_ratio  dom_illegal  dom_sld_entropy  \\\n",
       "16      www.horosproject.org  11.022869            0         3.022055   \n",
       "21    kindle-time.amazon.com  11.211672            0         2.251629   \n",
       "36   weather.service.msn.com   1.610196            0         1.584963   \n",
       "43             pico.eset.com   5.632438            0         1.500000   \n",
       "55         qbwup.imtt.qq.com   6.281895            0        -0.000000   \n",
       "..                       ...        ...          ...              ...   \n",
       "777      ts.minipage.2345.cc   1.408176            0         2.000000   \n",
       "778           uapi.mp.360.cn   2.267621            0         1.584963   \n",
       "779    upgrade.actiontec.com   2.619776            0         2.725481   \n",
       "781         tracker.lelux.fi   1.156560            0         1.921928   \n",
       "790               ps1.es.net   4.146479            0         1.000000   \n",
       "\n",
       "     subdom_entropy  dom_entropy  fqdn_entropy  dom_tldcnt  dom_sldcnt  \\\n",
       "16        -0.000000     3.202820      3.346439           0           0   \n",
       "21         3.095795     2.721928      3.697846           0           0   \n",
       "36         3.240224     2.521641      3.621176           0           0   \n",
       "43         2.000000     2.750000      3.085055           0           0   \n",
       "55         3.121928     2.251629      3.292770           0           0   \n",
       "..              ...          ...           ...         ...         ...   \n",
       "777        3.277613     2.521641      3.787144           0           0   \n",
       "778        2.521641     2.584963      3.324863           0           0   \n",
       "779        2.807355     3.026987      3.689704           0           0   \n",
       "781        2.521641     2.750000      3.500000           0           0   \n",
       "790        1.584963     2.251629      2.721928           0           0   \n",
       "\n",
       "     dom_subcnt  dom_level  dom_length  \n",
       "16            1          1          20  \n",
       "21            1          1          22  \n",
       "36            2          2          23  \n",
       "43            1          1          13  \n",
       "55            2          2          17  \n",
       "..          ...        ...         ...  \n",
       "777           2          2          19  \n",
       "778           2          2          14  \n",
       "779           1          1          21  \n",
       "781           1          1          16  \n",
       "790           1          1          10  \n",
       "\n",
       "[100 rows x 12 columns]"
      ]
     },
     "execution_count": 17,
     "metadata": {},
     "output_type": "execute_result"
    }
   ],
   "source": [
    "fqdn_feats"
   ]
  },
  {
   "cell_type": "code",
   "execution_count": null,
   "metadata": {},
   "outputs": [],
   "source": []
  },
  {
   "cell_type": "code",
   "execution_count": null,
   "metadata": {},
   "outputs": [],
   "source": []
  }
 ],
 "metadata": {
  "kernelspec": {
   "display_name": "Python 3 (ipykernel)",
   "language": "python",
   "name": "python3"
  },
  "language_info": {
   "codemirror_mode": {
    "name": "ipython",
    "version": 3
   },
   "file_extension": ".py",
   "mimetype": "text/x-python",
   "name": "python",
   "nbconvert_exporter": "python",
   "pygments_lexer": "ipython3",
   "version": "3.8.3"
  }
 },
 "nbformat": 4,
 "nbformat_minor": 4
}
