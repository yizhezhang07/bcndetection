{
 "cells": [
  {
   "cell_type": "code",
   "execution_count": 1,
   "metadata": {},
   "outputs": [],
   "source": [
    "import pandas as pd\n",
    "import numpy as np\n",
    "import matplotlib.pyplot as plt\n",
    "import seaborn as sns\n",
    "import os\n",
    "import warnings\n",
    "import multiprocessing\n",
    "import time\n",
    "import math\n",
    "\n",
    "from IPython.display import clear_output\n",
    "warnings.filterwarnings('ignore')"
   ]
  },
  {
   "cell_type": "code",
   "execution_count": 2,
   "metadata": {},
   "outputs": [],
   "source": [
    "from src.sigsimulation import *\n",
    "from src.robustper import robustper_wrap, mltproc_robustper_wrap\n",
    "from src.baywatch import baywatch_wrap, mltproc_baywatch_wrap\n",
    "from src.statsbased import stats_wrap, mltproc_stats_wrap\n",
    "from src.upnsca import upnsca_wrap, mltproc_upnsca_wrap\n",
    "from src.bcndetection import bcndetection_wrap, mltproc_bcndetection_wrap"
   ]
  },
  {
   "cell_type": "markdown",
   "metadata": {},
   "source": [
    "## Insertion Noise Simulation\n",
    "\n",
    "----\n",
    "\n",
    "- This notebook demo compares our proposed algorithm with several other periodicity detection algorithms using synthetic signals. \n",
    "- Please refer to paper `Section 4.2 Algorithm Evaluation` for detailed explanation of the insertion noise.\n",
    "- The following parameters are pre-defined to be consistant with the paper. "
   ]
  },
  {
   "cell_type": "code",
   "execution_count": 3,
   "metadata": {},
   "outputs": [],
   "source": [
    "# 10 minutes periodicity\n",
    "perl = [10]\n",
    "\n",
    "# std = 0 for the insertion experiment\n",
    "std = 0.\n",
    "\n",
    "# insertion percentage is from 0 to 20 of the original period\n",
    "instl = [i for i in range(0, 22, 2)]\n",
    "\n",
    "# for each insertion percentage, we generate $cnt signals\n",
    "cnt = 100\n",
    "\n",
    "datarootdir = \"data/inst\"\n",
    "\n",
    "if not os.path.exists(datarootdir):\n",
    "    os.mkdir(datarootdir)\n",
    "\n",
    "datafilefmt = \"per_{}_inst_{}.parquet\"\n",
    "\n",
    "# load pregenerated signal, set to True to regenerate simulated signals\n",
    "regenerate = False"
   ]
  },
  {
   "cell_type": "markdown",
   "metadata": {},
   "source": [
    "### Generate/Load Signals\n",
    "\n",
    "If you want to **regenerate** signals, set the `regenerate=True`.\n",
    "(By default, we load our previously generated signals to speed up the process.)\n"
   ]
  },
  {
   "cell_type": "code",
   "execution_count": 4,
   "metadata": {},
   "outputs": [],
   "source": [
    "# load pre-generated signal\n",
    "# set to True to regenerate simulated signals\n",
    "regenerate = False"
   ]
  },
  {
   "cell_type": "markdown",
   "metadata": {},
   "source": [
    "### Multiprocessing to reduce the computation time\n",
    "- set `multiproc=False` to disable multiprocessing. (We recommand use multiprocessing to speed up the computation.)\n",
    "- set the `processors`=`$number_of_your_cpu_cores` or `$number_of_jobs` you want to run in parallel."
   ]
  },
  {
   "cell_type": "code",
   "execution_count": 5,
   "metadata": {},
   "outputs": [],
   "source": [
    "# Set multiproc to True to disable multiprocessing\n",
    "multiproc = True\n",
    "\n",
    "# set the processors = the number of cpu cores or the number of jobs\n",
    "processors = 16"
   ]
  },
  {
   "cell_type": "markdown",
   "metadata": {},
   "source": [
    "### Algorithm Evaluation\n",
    "- Run the following blocks to regenerate results for STATS-based, UPNSCA, BAYWATCH and **our proposed methods**.\n",
    "- **The unofficial implementation of RobustPeriod is very slow**. It usually take minutes to process one time seires, as a result, it would take hours to complete the Gaussian noise evaluation section. Therefore, we read the robustperiod results from our previous evaluation here for convenience purporse.\n",
    "- **The code blocks to re-run the whole RobustPeriod experiments** are provided at the end of this notebook, in case you want to re-run the RobustPeriod results. It usually takes hours to finish depending on the computation power of your computer."
   ]
  },
  {
   "cell_type": "code",
   "execution_count": 6,
   "metadata": {},
   "outputs": [],
   "source": [
    "# we define acc = detected / total\n",
    "def get_acc(res, totalcnt):\n",
    "    return res.loc[res[\"detected\"]==True].shape[0]/totalcnt"
   ]
  },
  {
   "cell_type": "markdown",
   "metadata": {},
   "source": [
    "### The main detection process:"
   ]
  },
  {
   "cell_type": "code",
   "execution_count": 7,
   "metadata": {},
   "outputs": [
    {
     "name": "stdout",
     "output_type": "stream",
     "text": [
      "insertion range: 20 %\n",
      "data/inst/per_010_inst_020.parquet\n",
      "Loading data...\n",
      "Processing STATSBASED detection...\n",
      "Processing UPNSCA detection...\n",
      "Processing BAYWATCH detection...\n",
      "Processing Our Proposed detection...\n",
      "Getting Stats...\n",
      "PERIODS:10, STD: 0.0, INST: 0.2 \n",
      "STATS: 0.0\n",
      "UPNSCA: 0.0\n",
      "BAYWATCH: 1.0\n",
      "OUR Proposed: 1.0\n",
      "\n"
     ]
    }
   ],
   "source": [
    "# init result dataframe\n",
    "statsdf = pd.DataFrame(columns=[\"per\", \"std\", \"inst\", \"acc\", \"method\"]) \n",
    "\n",
    "# start evalutaion\n",
    "for per_m in perl:\n",
    "    per = per_m * 60 # minute to seconds\n",
    "    print(\"Generating Signals of Periodicity: {} minutes\".format(per_m))\n",
    "    \n",
    "    for value in instl:\n",
    "        inst = float(value)/100\n",
    "        print(\"insertion range: {} %\".format(value))\n",
    "        datafpath = os.path.join(datarootdir, datafilefmt.format(\"{0:03d}\".format(per_m), \"{0:03d}\".format(int(value))))\n",
    "        print(datafpath)\n",
    "        \n",
    "        # Load or generate simulated signals\n",
    "        if not regenerate and os.path.exists(datafpath):\n",
    "            print(\"Loading data...\")\n",
    "            sigdf = pd.read_parquet(datafpath)\n",
    "        else:\n",
    "            print(\"ReGenerating data...\")\n",
    "            sigdf = gen_poisson_signal_df(per, std, prate=inst, count=cnt)\n",
    "            print(\"Saving data...\")\n",
    "            sigdf.to_parquet(datafpath, index=False)\n",
    "\n",
    "        if multiproc: \n",
    "            \n",
    "            # STATBASED\n",
    "            print(\"Processing STATSBASED detection...\")\n",
    "            stats_resdf = mltproc_stats_wrap(sigdf, maxproc=processors)\n",
    "            \n",
    "            # UPNSCA\n",
    "            print(\"Processing UPNSCA detection...\")\n",
    "            upnsca_resdf = mltproc_upnsca_wrap(sigdf, maxproc=processors)\n",
    "            \n",
    "            # BAYWATCH\n",
    "            print(\"Processing BAYWATCH detection...\")\n",
    "            baywatch_resdf = mltproc_baywatch_wrap(sigdf, maxproc=processors)\n",
    "        \n",
    "            # Our Proposed\n",
    "            print(\"Processing Our Proposed detection...\")\n",
    "            bcndetection_resdf = mltproc_bcndetection_wrap(sigdf, maxproc=processors)\n",
    "        else:\n",
    "            \n",
    "            # STATBASED\n",
    "            print(\"Processing STATSBASED detection...\")\n",
    "            stats_resdf = stats_wrap(sigdf)\n",
    "            \n",
    "            # UPNSCA\n",
    "            print(\"Processing UPNSCA detection...\")\n",
    "            upnsca_resdf = upnsca_wrap(sigdf)\n",
    "            \n",
    "            # BAYWATCH\n",
    "            print(\"Processing BAYWATCH detection...\")\n",
    "            baywatch_resdf = baywatch_wrap(sigdf)\n",
    "        \n",
    "            # Our Proposed\n",
    "            print(\"Processing Our Proposed detection...\")\n",
    "            bcndetection_resdf = bcndetection_wrap(sigdf)\n",
    "        \n",
    "        print(\"Getting Stats...\")\n",
    "        stats_acc = get_acc(stats_resdf, totalcnt=cnt)\n",
    "        upnsca_acc = get_acc(upnsca_resdf, totalcnt=cnt)\n",
    "        baywatch_acc = get_acc(baywatch_resdf, totalcnt=cnt)\n",
    "        bcndetection_acc = get_acc(bcndetection_resdf, totalcnt=cnt)\n",
    "        \n",
    "        print(\"PERIODS:{}, STD: {}, INST: {} \\nSTATS: {}\\nUPNSCA: {}\\nBAYWATCH: {}\\nOUR Proposed: {}\\n\".format(per_m, std, inst, stats_acc, upnsca_acc, baywatch_acc, bcndetection_acc))\n",
    "        \n",
    "        ## update statatistic dataframe for plotting.\n",
    "        statsdf = statsdf.append({\"per\": per, \"std\": std, \"inst\": value, \"acc\": stats_acc, \"method\": \"STATS-BASED\"}, ignore_index=True)\n",
    "        statsdf = statsdf.append({\"per\": per, \"std\": std, \"inst\": value, \"acc\": upnsca_acc, \"method\": \"UPNSCA\"}, ignore_index=True)\n",
    "        statsdf = statsdf.append({\"per\": per, \"std\": std, \"inst\": value, \"acc\": baywatch_acc, \"method\": \"BAYWATCH\"}, ignore_index=True)\n",
    "        statsdf = statsdf.append({\"per\": per, \"std\": std, \"inst\": value, \"acc\": bcndetection_acc, \"method\": \"Our Proposed\"}, ignore_index=True)\n",
    "        clear_output(wait=True)"
   ]
  },
  {
   "cell_type": "markdown",
   "metadata": {},
   "source": [
    "### Save the results\n",
    "If you **regenerate** signals or **rerun** the above experiments, run the following blocks to save it."
   ]
  },
  {
   "cell_type": "code",
   "execution_count": 12,
   "metadata": {},
   "outputs": [],
   "source": [
    "statsdf.to_csv(\"results/inst_evaluation_newresults.csv\", index=False)"
   ]
  },
  {
   "cell_type": "markdown",
   "metadata": {},
   "source": [
    "### Visualization\n",
    "- We read RobustPeriod results from \"results/inst_robust.csv\" as the rerunning of RobustPeriod would take hours. (The re-runing code for robustPeriod can be found at the end of the notebook.)"
   ]
  },
  {
   "cell_type": "code",
   "execution_count": 27,
   "metadata": {},
   "outputs": [
    {
     "ename": "FileNotFoundError",
     "evalue": "[Errno 2] No such file or directory: 'results/inst_evaluation_newresults.csv'",
     "output_type": "error",
     "traceback": [
      "\u001b[0;31m---------------------------------------------------------------------------\u001b[0m",
      "\u001b[0;31mFileNotFoundError\u001b[0m                         Traceback (most recent call last)",
      "Cell \u001b[0;32mIn[27], line 2\u001b[0m\n\u001b[1;32m      1\u001b[0m statsdf_robust \u001b[38;5;241m=\u001b[39m pd\u001b[38;5;241m.\u001b[39mread_csv(\u001b[38;5;124m\"\u001b[39m\u001b[38;5;124mresults/inst_robust.csv\u001b[39m\u001b[38;5;124m\"\u001b[39m)\n\u001b[0;32m----> 2\u001b[0m statsdf \u001b[38;5;241m=\u001b[39m \u001b[43mpd\u001b[49m\u001b[38;5;241;43m.\u001b[39;49m\u001b[43mread_csv\u001b[49m\u001b[43m(\u001b[49m\u001b[38;5;124;43m\"\u001b[39;49m\u001b[38;5;124;43mresults/inst_evaluation_newresults.csv\u001b[39;49m\u001b[38;5;124;43m\"\u001b[39;49m\u001b[43m)\u001b[49m \n\u001b[1;32m      4\u001b[0m \u001b[38;5;66;03m# if you want to read our original results uncomment the following:\u001b[39;00m\n\u001b[1;32m      5\u001b[0m statsdf \u001b[38;5;241m=\u001b[39m pd\u001b[38;5;241m.\u001b[39mread_csv(\u001b[38;5;124m\"\u001b[39m\u001b[38;5;124mresults/inst_evaluation.csv\u001b[39m\u001b[38;5;124m\"\u001b[39m)\n",
      "File \u001b[0;32m~/miniconda3/envs/bcn-env/lib/python3.8/site-packages/pandas/util/_decorators.py:211\u001b[0m, in \u001b[0;36mdeprecate_kwarg.<locals>._deprecate_kwarg.<locals>.wrapper\u001b[0;34m(*args, **kwargs)\u001b[0m\n\u001b[1;32m    209\u001b[0m     \u001b[38;5;28;01melse\u001b[39;00m:\n\u001b[1;32m    210\u001b[0m         kwargs[new_arg_name] \u001b[38;5;241m=\u001b[39m new_arg_value\n\u001b[0;32m--> 211\u001b[0m \u001b[38;5;28;01mreturn\u001b[39;00m \u001b[43mfunc\u001b[49m\u001b[43m(\u001b[49m\u001b[38;5;241;43m*\u001b[39;49m\u001b[43margs\u001b[49m\u001b[43m,\u001b[49m\u001b[43m \u001b[49m\u001b[38;5;241;43m*\u001b[39;49m\u001b[38;5;241;43m*\u001b[39;49m\u001b[43mkwargs\u001b[49m\u001b[43m)\u001b[49m\n",
      "File \u001b[0;32m~/miniconda3/envs/bcn-env/lib/python3.8/site-packages/pandas/util/_decorators.py:331\u001b[0m, in \u001b[0;36mdeprecate_nonkeyword_arguments.<locals>.decorate.<locals>.wrapper\u001b[0;34m(*args, **kwargs)\u001b[0m\n\u001b[1;32m    325\u001b[0m \u001b[38;5;28;01mif\u001b[39;00m \u001b[38;5;28mlen\u001b[39m(args) \u001b[38;5;241m>\u001b[39m num_allow_args:\n\u001b[1;32m    326\u001b[0m     warnings\u001b[38;5;241m.\u001b[39mwarn(\n\u001b[1;32m    327\u001b[0m         msg\u001b[38;5;241m.\u001b[39mformat(arguments\u001b[38;5;241m=\u001b[39m_format_argument_list(allow_args)),\n\u001b[1;32m    328\u001b[0m         \u001b[38;5;167;01mFutureWarning\u001b[39;00m,\n\u001b[1;32m    329\u001b[0m         stacklevel\u001b[38;5;241m=\u001b[39mfind_stack_level(),\n\u001b[1;32m    330\u001b[0m     )\n\u001b[0;32m--> 331\u001b[0m \u001b[38;5;28;01mreturn\u001b[39;00m \u001b[43mfunc\u001b[49m\u001b[43m(\u001b[49m\u001b[38;5;241;43m*\u001b[39;49m\u001b[43margs\u001b[49m\u001b[43m,\u001b[49m\u001b[43m \u001b[49m\u001b[38;5;241;43m*\u001b[39;49m\u001b[38;5;241;43m*\u001b[39;49m\u001b[43mkwargs\u001b[49m\u001b[43m)\u001b[49m\n",
      "File \u001b[0;32m~/miniconda3/envs/bcn-env/lib/python3.8/site-packages/pandas/io/parsers/readers.py:950\u001b[0m, in \u001b[0;36mread_csv\u001b[0;34m(filepath_or_buffer, sep, delimiter, header, names, index_col, usecols, squeeze, prefix, mangle_dupe_cols, dtype, engine, converters, true_values, false_values, skipinitialspace, skiprows, skipfooter, nrows, na_values, keep_default_na, na_filter, verbose, skip_blank_lines, parse_dates, infer_datetime_format, keep_date_col, date_parser, dayfirst, cache_dates, iterator, chunksize, compression, thousands, decimal, lineterminator, quotechar, quoting, doublequote, escapechar, comment, encoding, encoding_errors, dialect, error_bad_lines, warn_bad_lines, on_bad_lines, delim_whitespace, low_memory, memory_map, float_precision, storage_options)\u001b[0m\n\u001b[1;32m    935\u001b[0m kwds_defaults \u001b[38;5;241m=\u001b[39m _refine_defaults_read(\n\u001b[1;32m    936\u001b[0m     dialect,\n\u001b[1;32m    937\u001b[0m     delimiter,\n\u001b[0;32m   (...)\u001b[0m\n\u001b[1;32m    946\u001b[0m     defaults\u001b[38;5;241m=\u001b[39m{\u001b[38;5;124m\"\u001b[39m\u001b[38;5;124mdelimiter\u001b[39m\u001b[38;5;124m\"\u001b[39m: \u001b[38;5;124m\"\u001b[39m\u001b[38;5;124m,\u001b[39m\u001b[38;5;124m\"\u001b[39m},\n\u001b[1;32m    947\u001b[0m )\n\u001b[1;32m    948\u001b[0m kwds\u001b[38;5;241m.\u001b[39mupdate(kwds_defaults)\n\u001b[0;32m--> 950\u001b[0m \u001b[38;5;28;01mreturn\u001b[39;00m \u001b[43m_read\u001b[49m\u001b[43m(\u001b[49m\u001b[43mfilepath_or_buffer\u001b[49m\u001b[43m,\u001b[49m\u001b[43m \u001b[49m\u001b[43mkwds\u001b[49m\u001b[43m)\u001b[49m\n",
      "File \u001b[0;32m~/miniconda3/envs/bcn-env/lib/python3.8/site-packages/pandas/io/parsers/readers.py:605\u001b[0m, in \u001b[0;36m_read\u001b[0;34m(filepath_or_buffer, kwds)\u001b[0m\n\u001b[1;32m    602\u001b[0m _validate_names(kwds\u001b[38;5;241m.\u001b[39mget(\u001b[38;5;124m\"\u001b[39m\u001b[38;5;124mnames\u001b[39m\u001b[38;5;124m\"\u001b[39m, \u001b[38;5;28;01mNone\u001b[39;00m))\n\u001b[1;32m    604\u001b[0m \u001b[38;5;66;03m# Create the parser.\u001b[39;00m\n\u001b[0;32m--> 605\u001b[0m parser \u001b[38;5;241m=\u001b[39m \u001b[43mTextFileReader\u001b[49m\u001b[43m(\u001b[49m\u001b[43mfilepath_or_buffer\u001b[49m\u001b[43m,\u001b[49m\u001b[43m \u001b[49m\u001b[38;5;241;43m*\u001b[39;49m\u001b[38;5;241;43m*\u001b[39;49m\u001b[43mkwds\u001b[49m\u001b[43m)\u001b[49m\n\u001b[1;32m    607\u001b[0m \u001b[38;5;28;01mif\u001b[39;00m chunksize \u001b[38;5;129;01mor\u001b[39;00m iterator:\n\u001b[1;32m    608\u001b[0m     \u001b[38;5;28;01mreturn\u001b[39;00m parser\n",
      "File \u001b[0;32m~/miniconda3/envs/bcn-env/lib/python3.8/site-packages/pandas/io/parsers/readers.py:1442\u001b[0m, in \u001b[0;36mTextFileReader.__init__\u001b[0;34m(self, f, engine, **kwds)\u001b[0m\n\u001b[1;32m   1439\u001b[0m     \u001b[38;5;28mself\u001b[39m\u001b[38;5;241m.\u001b[39moptions[\u001b[38;5;124m\"\u001b[39m\u001b[38;5;124mhas_index_names\u001b[39m\u001b[38;5;124m\"\u001b[39m] \u001b[38;5;241m=\u001b[39m kwds[\u001b[38;5;124m\"\u001b[39m\u001b[38;5;124mhas_index_names\u001b[39m\u001b[38;5;124m\"\u001b[39m]\n\u001b[1;32m   1441\u001b[0m \u001b[38;5;28mself\u001b[39m\u001b[38;5;241m.\u001b[39mhandles: IOHandles \u001b[38;5;241m|\u001b[39m \u001b[38;5;28;01mNone\u001b[39;00m \u001b[38;5;241m=\u001b[39m \u001b[38;5;28;01mNone\u001b[39;00m\n\u001b[0;32m-> 1442\u001b[0m \u001b[38;5;28mself\u001b[39m\u001b[38;5;241m.\u001b[39m_engine \u001b[38;5;241m=\u001b[39m \u001b[38;5;28;43mself\u001b[39;49m\u001b[38;5;241;43m.\u001b[39;49m\u001b[43m_make_engine\u001b[49m\u001b[43m(\u001b[49m\u001b[43mf\u001b[49m\u001b[43m,\u001b[49m\u001b[43m \u001b[49m\u001b[38;5;28;43mself\u001b[39;49m\u001b[38;5;241;43m.\u001b[39;49m\u001b[43mengine\u001b[49m\u001b[43m)\u001b[49m\n",
      "File \u001b[0;32m~/miniconda3/envs/bcn-env/lib/python3.8/site-packages/pandas/io/parsers/readers.py:1735\u001b[0m, in \u001b[0;36mTextFileReader._make_engine\u001b[0;34m(self, f, engine)\u001b[0m\n\u001b[1;32m   1733\u001b[0m     \u001b[38;5;28;01mif\u001b[39;00m \u001b[38;5;124m\"\u001b[39m\u001b[38;5;124mb\u001b[39m\u001b[38;5;124m\"\u001b[39m \u001b[38;5;129;01mnot\u001b[39;00m \u001b[38;5;129;01min\u001b[39;00m mode:\n\u001b[1;32m   1734\u001b[0m         mode \u001b[38;5;241m+\u001b[39m\u001b[38;5;241m=\u001b[39m \u001b[38;5;124m\"\u001b[39m\u001b[38;5;124mb\u001b[39m\u001b[38;5;124m\"\u001b[39m\n\u001b[0;32m-> 1735\u001b[0m \u001b[38;5;28mself\u001b[39m\u001b[38;5;241m.\u001b[39mhandles \u001b[38;5;241m=\u001b[39m \u001b[43mget_handle\u001b[49m\u001b[43m(\u001b[49m\n\u001b[1;32m   1736\u001b[0m \u001b[43m    \u001b[49m\u001b[43mf\u001b[49m\u001b[43m,\u001b[49m\n\u001b[1;32m   1737\u001b[0m \u001b[43m    \u001b[49m\u001b[43mmode\u001b[49m\u001b[43m,\u001b[49m\n\u001b[1;32m   1738\u001b[0m \u001b[43m    \u001b[49m\u001b[43mencoding\u001b[49m\u001b[38;5;241;43m=\u001b[39;49m\u001b[38;5;28;43mself\u001b[39;49m\u001b[38;5;241;43m.\u001b[39;49m\u001b[43moptions\u001b[49m\u001b[38;5;241;43m.\u001b[39;49m\u001b[43mget\u001b[49m\u001b[43m(\u001b[49m\u001b[38;5;124;43m\"\u001b[39;49m\u001b[38;5;124;43mencoding\u001b[39;49m\u001b[38;5;124;43m\"\u001b[39;49m\u001b[43m,\u001b[49m\u001b[43m \u001b[49m\u001b[38;5;28;43;01mNone\u001b[39;49;00m\u001b[43m)\u001b[49m\u001b[43m,\u001b[49m\n\u001b[1;32m   1739\u001b[0m \u001b[43m    \u001b[49m\u001b[43mcompression\u001b[49m\u001b[38;5;241;43m=\u001b[39;49m\u001b[38;5;28;43mself\u001b[39;49m\u001b[38;5;241;43m.\u001b[39;49m\u001b[43moptions\u001b[49m\u001b[38;5;241;43m.\u001b[39;49m\u001b[43mget\u001b[49m\u001b[43m(\u001b[49m\u001b[38;5;124;43m\"\u001b[39;49m\u001b[38;5;124;43mcompression\u001b[39;49m\u001b[38;5;124;43m\"\u001b[39;49m\u001b[43m,\u001b[49m\u001b[43m \u001b[49m\u001b[38;5;28;43;01mNone\u001b[39;49;00m\u001b[43m)\u001b[49m\u001b[43m,\u001b[49m\n\u001b[1;32m   1740\u001b[0m \u001b[43m    \u001b[49m\u001b[43mmemory_map\u001b[49m\u001b[38;5;241;43m=\u001b[39;49m\u001b[38;5;28;43mself\u001b[39;49m\u001b[38;5;241;43m.\u001b[39;49m\u001b[43moptions\u001b[49m\u001b[38;5;241;43m.\u001b[39;49m\u001b[43mget\u001b[49m\u001b[43m(\u001b[49m\u001b[38;5;124;43m\"\u001b[39;49m\u001b[38;5;124;43mmemory_map\u001b[39;49m\u001b[38;5;124;43m\"\u001b[39;49m\u001b[43m,\u001b[49m\u001b[43m \u001b[49m\u001b[38;5;28;43;01mFalse\u001b[39;49;00m\u001b[43m)\u001b[49m\u001b[43m,\u001b[49m\n\u001b[1;32m   1741\u001b[0m \u001b[43m    \u001b[49m\u001b[43mis_text\u001b[49m\u001b[38;5;241;43m=\u001b[39;49m\u001b[43mis_text\u001b[49m\u001b[43m,\u001b[49m\n\u001b[1;32m   1742\u001b[0m \u001b[43m    \u001b[49m\u001b[43merrors\u001b[49m\u001b[38;5;241;43m=\u001b[39;49m\u001b[38;5;28;43mself\u001b[39;49m\u001b[38;5;241;43m.\u001b[39;49m\u001b[43moptions\u001b[49m\u001b[38;5;241;43m.\u001b[39;49m\u001b[43mget\u001b[49m\u001b[43m(\u001b[49m\u001b[38;5;124;43m\"\u001b[39;49m\u001b[38;5;124;43mencoding_errors\u001b[39;49m\u001b[38;5;124;43m\"\u001b[39;49m\u001b[43m,\u001b[49m\u001b[43m \u001b[49m\u001b[38;5;124;43m\"\u001b[39;49m\u001b[38;5;124;43mstrict\u001b[39;49m\u001b[38;5;124;43m\"\u001b[39;49m\u001b[43m)\u001b[49m\u001b[43m,\u001b[49m\n\u001b[1;32m   1743\u001b[0m \u001b[43m    \u001b[49m\u001b[43mstorage_options\u001b[49m\u001b[38;5;241;43m=\u001b[39;49m\u001b[38;5;28;43mself\u001b[39;49m\u001b[38;5;241;43m.\u001b[39;49m\u001b[43moptions\u001b[49m\u001b[38;5;241;43m.\u001b[39;49m\u001b[43mget\u001b[49m\u001b[43m(\u001b[49m\u001b[38;5;124;43m\"\u001b[39;49m\u001b[38;5;124;43mstorage_options\u001b[39;49m\u001b[38;5;124;43m\"\u001b[39;49m\u001b[43m,\u001b[49m\u001b[43m \u001b[49m\u001b[38;5;28;43;01mNone\u001b[39;49;00m\u001b[43m)\u001b[49m\u001b[43m,\u001b[49m\n\u001b[1;32m   1744\u001b[0m \u001b[43m\u001b[49m\u001b[43m)\u001b[49m\n\u001b[1;32m   1745\u001b[0m \u001b[38;5;28;01massert\u001b[39;00m \u001b[38;5;28mself\u001b[39m\u001b[38;5;241m.\u001b[39mhandles \u001b[38;5;129;01mis\u001b[39;00m \u001b[38;5;129;01mnot\u001b[39;00m \u001b[38;5;28;01mNone\u001b[39;00m\n\u001b[1;32m   1746\u001b[0m f \u001b[38;5;241m=\u001b[39m \u001b[38;5;28mself\u001b[39m\u001b[38;5;241m.\u001b[39mhandles\u001b[38;5;241m.\u001b[39mhandle\n",
      "File \u001b[0;32m~/miniconda3/envs/bcn-env/lib/python3.8/site-packages/pandas/io/common.py:856\u001b[0m, in \u001b[0;36mget_handle\u001b[0;34m(path_or_buf, mode, encoding, compression, memory_map, is_text, errors, storage_options)\u001b[0m\n\u001b[1;32m    851\u001b[0m \u001b[38;5;28;01melif\u001b[39;00m \u001b[38;5;28misinstance\u001b[39m(handle, \u001b[38;5;28mstr\u001b[39m):\n\u001b[1;32m    852\u001b[0m     \u001b[38;5;66;03m# Check whether the filename is to be opened in binary mode.\u001b[39;00m\n\u001b[1;32m    853\u001b[0m     \u001b[38;5;66;03m# Binary mode does not support 'encoding' and 'newline'.\u001b[39;00m\n\u001b[1;32m    854\u001b[0m     \u001b[38;5;28;01mif\u001b[39;00m ioargs\u001b[38;5;241m.\u001b[39mencoding \u001b[38;5;129;01mand\u001b[39;00m \u001b[38;5;124m\"\u001b[39m\u001b[38;5;124mb\u001b[39m\u001b[38;5;124m\"\u001b[39m \u001b[38;5;129;01mnot\u001b[39;00m \u001b[38;5;129;01min\u001b[39;00m ioargs\u001b[38;5;241m.\u001b[39mmode:\n\u001b[1;32m    855\u001b[0m         \u001b[38;5;66;03m# Encoding\u001b[39;00m\n\u001b[0;32m--> 856\u001b[0m         handle \u001b[38;5;241m=\u001b[39m \u001b[38;5;28;43mopen\u001b[39;49m\u001b[43m(\u001b[49m\n\u001b[1;32m    857\u001b[0m \u001b[43m            \u001b[49m\u001b[43mhandle\u001b[49m\u001b[43m,\u001b[49m\n\u001b[1;32m    858\u001b[0m \u001b[43m            \u001b[49m\u001b[43mioargs\u001b[49m\u001b[38;5;241;43m.\u001b[39;49m\u001b[43mmode\u001b[49m\u001b[43m,\u001b[49m\n\u001b[1;32m    859\u001b[0m \u001b[43m            \u001b[49m\u001b[43mencoding\u001b[49m\u001b[38;5;241;43m=\u001b[39;49m\u001b[43mioargs\u001b[49m\u001b[38;5;241;43m.\u001b[39;49m\u001b[43mencoding\u001b[49m\u001b[43m,\u001b[49m\n\u001b[1;32m    860\u001b[0m \u001b[43m            \u001b[49m\u001b[43merrors\u001b[49m\u001b[38;5;241;43m=\u001b[39;49m\u001b[43merrors\u001b[49m\u001b[43m,\u001b[49m\n\u001b[1;32m    861\u001b[0m \u001b[43m            \u001b[49m\u001b[43mnewline\u001b[49m\u001b[38;5;241;43m=\u001b[39;49m\u001b[38;5;124;43m\"\u001b[39;49m\u001b[38;5;124;43m\"\u001b[39;49m\u001b[43m,\u001b[49m\n\u001b[1;32m    862\u001b[0m \u001b[43m        \u001b[49m\u001b[43m)\u001b[49m\n\u001b[1;32m    863\u001b[0m     \u001b[38;5;28;01melse\u001b[39;00m:\n\u001b[1;32m    864\u001b[0m         \u001b[38;5;66;03m# Binary mode\u001b[39;00m\n\u001b[1;32m    865\u001b[0m         handle \u001b[38;5;241m=\u001b[39m \u001b[38;5;28mopen\u001b[39m(handle, ioargs\u001b[38;5;241m.\u001b[39mmode)\n",
      "\u001b[0;31mFileNotFoundError\u001b[0m: [Errno 2] No such file or directory: 'results/inst_evaluation_newresults.csv'"
     ]
    }
   ],
   "source": [
    "statsdf_robust = pd.read_csv(\"results/inst_robust.csv\")\n",
    "statsdf = pd.read_csv(\"results/inst_evaluation_newresults.csv\") \n",
    "\n",
    "# if you want to read our original results uncomment the following:\n",
    "#statsdf = pd.read_csv(\"results/inst_evaluation.csv\")\n",
    "\n",
    "\n",
    "statsdf_all = pd.concat([statsdf, statsdf_robust], ignore_index=True)"
   ]
  },
  {
   "cell_type": "markdown",
   "metadata": {},
   "source": [
    "### Plotting the periodicity detection results. \n",
    "- **Note** that the figure might be slightly **different** from the figure in the paper due to the **random process** in **both** signal generation and periodicity detection process, which may cause more or less detections. \n",
    "\n",
    "- However, we expect the pattern to be **very similar**: \n",
    "- We expect STATS-BASED, UPNSCA have the worst performance. The lines might be overlapped, because these algorithms are not robust to the insertion noise so they drop to 0 very quickly. \n",
    "- We expect Baywatch has better performance as compared to the upper-mentioned algorithms. \n",
    "- Both RobustPeriod and ours are very robust (i.e. 100% detection rate) to insertion noise and **overlapped** as the top line."
   ]
  },
  {
   "cell_type": "code",
   "execution_count": 16,
   "metadata": {},
   "outputs": [
    {
     "data": {
      "image/png": "[encoded data removed]",
      "text/plain": [
       "<Figure size 600x300 with 1 Axes>"
      ]
     },
     "metadata": {},
     "output_type": "display_data"
    }
   ],
   "source": [
    "stats_per10 = statsdf_all.loc[statsdf_all[\"per\"]==600]\n",
    "\n",
    "sns.set_style(\"whitegrid\")\n",
    "plt.rcParams['axes.spines.left'] = True\n",
    "plt.rcParams['axes.spines.right'] = False\n",
    "plt.rcParams['axes.spines.top'] = False\n",
    "plt.rcParams['axes.spines.bottom'] = False\n",
    "\n",
    "fig, ax0 = plt.subplots(figsize=(6, 3))\n",
    "\n",
    "sns.set_palette(\"tab10\")\n",
    "\n",
    "ax0 = sns.scatterplot(data=stats_per10, x = \"inst\", y=\"acc\", hue=\"method\", linewidth=2, alpha=0.7, s=100, \n",
    "                      palette=[sns.color_palette()[0], sns.color_palette()[1], sns.color_palette()[2], sns.color_palette()[4], sns.color_palette()[3]], \n",
    "                      legend = False)\n",
    "ax0 = sns.lineplot(data=stats_per10, x = \"inst\", y=\"acc\", hue=\"method\", markers=\"acc\", linewidth=2,\n",
    "                   palette=[sns.color_palette()[0], sns.color_palette()[1], sns.color_palette()[2], sns.color_palette()[4], sns.color_palette()[3]])\n",
    "\n",
    "ax0.set_ylabel(\"Detection Rate\",  fontsize=18)\n",
    "ax0.set_xlabel(\"Insert Noise Ratio (%)\",  fontsize=18)\n",
    "ax0.tick_params(axis='x', labelsize=18)\n",
    "ax0.tick_params(axis='y', labelsize=18)\n",
    "ax0.set_yticks(np.arange(0, 1.2, step=0.2))\n",
    "\n",
    "handle, labels = ax0.get_legend_handles_labels()\n",
    "plt.legend(labels=[labels[0], labels[1], labels[2], labels[4], labels[3]], \n",
    "           handles= [handle[0], handle[1], handle[2], handle[3], handle[4]], )\n",
    "\n",
    "plt.xticks(fontsize=18)\n",
    "plt.yticks(fontsize=18)\n",
    "plt.subplots_adjust(0.07, 0.15, 0.98, 0.85)"
   ]
  },
  {
   "cell_type": "markdown",
   "metadata": {},
   "source": [
    "### RobustPeriods Demo\n",
    "- Run the following blocks to check the computation time for robust periods to process one time series\n",
    "- It usually take 30 seconds to process one time series with different omitting rate on my server (Intel(R) Xeon(R) Platinum 8259CL CPU @ 2.50GHz)."
   ]
  },
  {
   "cell_type": "code",
   "execution_count": 18,
   "metadata": {},
   "outputs": [
    {
     "name": "stdout",
     "output_type": "stream",
     "text": [
      "Processing time is: 28.694293975830078 seconds\n"
     ]
    }
   ],
   "source": [
    "demo_sigdf = gen_poisson_signal_df(per, std=0, prate=0.02, count=1, length=24*60)\n",
    "\n",
    "start_t = time.time()\n",
    "demo_res = robustper_wrap(demo_sigdf)\n",
    "end_t = time.time()\n",
    "print(\"Processing time is: {} seconds\".format(end_t - start_t))"
   ]
  },
  {
   "cell_type": "markdown",
   "metadata": {},
   "source": [
    "### RobustPeriods Rerun\n",
    "- Run the following blocks to recompute the whole RobustPeriod evaluation session\n",
    "- **[Warning]** Note that it usually takes ~ 30 minutes to finish. \n",
    "- For example, we want to test 10 values. For each std value, 100 signals are generated. And for each signal series,  the algorithm need 30 seconds processing time. If the computer has 16 cores, it will take 10 * 100 * 30 / 16 = 0.5 hours. "
   ]
  },
  {
   "cell_type": "code",
   "execution_count": 32,
   "metadata": {},
   "outputs": [
    {
     "name": "stdout",
     "output_type": "stream",
     "text": [
      "Gaussian Noise Level: 20 %\n",
      "data/poisson/per_010_inst_020.parquet\n",
      "Loading data...\n",
      "Processing RobustPeriod detection...\n",
      "Getting Stats...\n",
      "PERIODS:10, STD: 0.0, INST: 0.2 \n",
      "RobustPeriods: 1.0\n",
      "\n"
     ]
    }
   ],
   "source": [
    "stats_robust = pd.DataFrame(columns=[\"per\", \"std\", \"inst\", \"acc\", \"method\"]) \n",
    "regenerate = False\n",
    "for per_m in perl:\n",
    "    per = per_m * 60 # minute to seconds\n",
    "    print(\"Generating Signals of Periodicity: {} minutes\".format(per_m))\n",
    "    \n",
    "    for value in instl:\n",
    "        inst = float(value)/100\n",
    "        print(\"Gaussian Noise Level: {} %\".format(value))\n",
    "        datafpath = os.path.join(datarootdir, datafilefmt.format(\"{0:03d}\".format(per_m), \"{0:03d}\".format(value)))\n",
    "        print(datafpath)\n",
    "        \n",
    "        # Load or generate simulated signals\n",
    "        if not regenerate and os.path.exists(datafpath):\n",
    "            print(\"Loading data...\")\n",
    "            sigdf = pd.read_parquet(datafpath)\n",
    "        else:\n",
    "            print(\"ReGenerating data...\")\n",
    "            sigdf = gen_poisson_signal_df(per, std, prate=inst, count=cnt)\n",
    "            print(\"Saving data...\")\n",
    "            sigdf.to_parquet(datafpath, index=False)\n",
    "\n",
    "        if multiproc: \n",
    "            print(\"Processing RobustPeriod detection...\")\n",
    "            robust_resdf = mltproc_robustper_wrap(sigdf, maxproc=processors)\n",
    "        else:\n",
    "            print(\"Processing RobustPeriod detection...\")\n",
    "            robust_resdf = robustper_wrap(sigdf)\n",
    "        \n",
    "        print(\"Getting Stats...\")\n",
    "        robust_acc = get_acc(robust_resdf, totalcnt=cnt)\n",
    "        \n",
    "        print(\"PERIODS:{}, STD: {}, INST: {} \\nRobustPeriods: {}\\n\".format(per_m, std, inst, robust_acc))\n",
    "        \n",
    "        ## update statatistic dataframe for plotting.\n",
    "        stats_robust = stats_robust.append({\"per\": per, \"std\": std, \"inst\": value, \"acc\": robust_acc, \"method\": \"RobustPeriod\"}, ignore_index=True)\n",
    "        clear_output(wait=True)"
   ]
  },
  {
   "cell_type": "markdown",
   "metadata": {},
   "source": [
    "### Save Results\n",
    "Save your newly computed robust period data by uncomment the following line"
   ]
  },
  {
   "cell_type": "code",
   "execution_count": 34,
   "metadata": {},
   "outputs": [],
   "source": [
    "#stats_robust.to_csv(\"results/inst_robust.csv\", index=False)"
   ]
  }
 ],
 "metadata": {
  "kernelspec": {
   "display_name": "Python 3 (ipykernel)",
   "language": "python",
   "name": "python3"
  },
  "language_info": {
   "codemirror_mode": {
    "name": "ipython",
    "version": 3
   },
   "file_extension": ".py",
   "mimetype": "text/x-python",
   "name": "python",
   "nbconvert_exporter": "python",
   "pygments_lexer": "ipython3",
   "version": "3.8.3"
  }
 },
 "nbformat": 4,
 "nbformat_minor": 4
}
